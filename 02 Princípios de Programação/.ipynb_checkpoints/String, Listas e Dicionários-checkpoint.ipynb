{
 "cells": [
  {
   "cell_type": "code",
   "execution_count": 1,
   "id": "f7256a28",
   "metadata": {},
   "outputs": [
    {
     "data": {
      "text/plain": [
       "{'nome': 'silvio', 'idade': 39, 'telefone': 99999}"
      ]
     },
     "execution_count": 1,
     "metadata": {},
     "output_type": "execute_result"
    }
   ],
   "source": [
    "list_dic = {\n",
    "    'nome':'silvio',\n",
    "    'idade':39,\n",
    "    'telefone':99999\n",
    "}\n",
    "list_dic"
   ]
  },
  {
   "cell_type": "code",
   "execution_count": 2,
   "id": "afa312fd",
   "metadata": {},
   "outputs": [
    {
     "name": "stdout",
     "output_type": "stream",
     "text": [
      "nome : silvio\n",
      "idade : 39\n",
      "telefone : 99999\n"
     ]
    }
   ],
   "source": [
    "for chave, valor in list_dic.items():\n",
    "    print(chave+' : '+str(valor))"
   ]
  },
  {
   "cell_type": "code",
   "execution_count": null,
   "id": "20b808aa",
   "metadata": {},
   "outputs": [],
   "source": []
  }
 ],
 "metadata": {
  "kernelspec": {
   "display_name": "Python 3 (ipykernel)",
   "language": "python",
   "name": "python3"
  },
  "language_info": {
   "codemirror_mode": {
    "name": "ipython",
    "version": 3
   },
   "file_extension": ".py",
   "mimetype": "text/x-python",
   "name": "python",
   "nbconvert_exporter": "python",
   "pygments_lexer": "ipython3",
   "version": "3.7.11"
  }
 },
 "nbformat": 4,
 "nbformat_minor": 5
}
