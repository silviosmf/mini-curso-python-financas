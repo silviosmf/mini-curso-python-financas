{
 "cells": [
  {
   "cell_type": "code",
   "execution_count": 23,
   "id": "58cb966d",
   "metadata": {},
   "outputs": [],
   "source": [
    "import math"
   ]
  },
  {
   "cell_type": "code",
   "execution_count": 24,
   "id": "f0837d11",
   "metadata": {},
   "outputs": [
    {
     "data": {
      "text/plain": [
       "3.141592653589793"
      ]
     },
     "execution_count": 24,
     "metadata": {},
     "output_type": "execute_result"
    }
   ],
   "source": [
    "math.pi"
   ]
  },
  {
   "cell_type": "code",
   "execution_count": 25,
   "id": "63231563",
   "metadata": {},
   "outputs": [],
   "source": [
    "def funcao_soma(x,y):\n",
    "    valor_calculo = x + y\n",
    "    return valor_calculo"
   ]
  },
  {
   "cell_type": "code",
   "execution_count": 28,
   "id": "321a3864",
   "metadata": {},
   "outputs": [
    {
     "name": "stdout",
     "output_type": "stream",
     "text": [
      "Entrada de X: 10\n",
      "Entrada de Y:2.5\n",
      "12.5\n"
     ]
    }
   ],
   "source": [
    "x = float(input('Entrada de X: '))\n",
    "y = float(input('Entrada de Y:'))\n",
    "print(funcao_soma(x,y))"
   ]
  },
  {
   "cell_type": "code",
   "execution_count": 30,
   "id": "045afb28",
   "metadata": {},
   "outputs": [
    {
     "data": {
      "text/plain": [
       "'__main__'"
      ]
     },
     "execution_count": 30,
     "metadata": {},
     "output_type": "execute_result"
    }
   ],
   "source": [
    "__name__"
   ]
  },
  {
   "cell_type": "code",
   "execution_count": 34,
   "id": "d5a5dcc0",
   "metadata": {},
   "outputs": [],
   "source": [
    "import funcoes as func"
   ]
  },
  {
   "cell_type": "code",
   "execution_count": 35,
   "id": "44fc9c35",
   "metadata": {},
   "outputs": [
    {
     "data": {
      "text/plain": [
       "12"
      ]
     },
     "execution_count": 35,
     "metadata": {},
     "output_type": "execute_result"
    }
   ],
   "source": [
    "func.multiplicar(3,4)"
   ]
  },
  {
   "cell_type": "code",
   "execution_count": null,
   "id": "bf750d91",
   "metadata": {},
   "outputs": [],
   "source": []
  }
 ],
 "metadata": {
  "kernelspec": {
   "display_name": "Python 3 (ipykernel)",
   "language": "python",
   "name": "python3"
  },
  "language_info": {
   "codemirror_mode": {
    "name": "ipython",
    "version": 3
   },
   "file_extension": ".py",
   "mimetype": "text/x-python",
   "name": "python",
   "nbconvert_exporter": "python",
   "pygments_lexer": "ipython3",
   "version": "3.7.11"
  }
 },
 "nbformat": 4,
 "nbformat_minor": 5
}
