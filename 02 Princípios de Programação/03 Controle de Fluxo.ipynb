{
 "cells": [
  {
   "cell_type": "markdown",
   "id": "fda4f44b",
   "metadata": {},
   "source": [
    "## Controle de Fluxo\n",
    "\n",
    "Python tem palavras reservadas para lógica condicional, laços e outros controles de fluxo.\n"
   ]
  },
  {
   "cell_type": "markdown",
   "id": "0299d2d8",
   "metadata": {},
   "source": [
    "### IF\n",
    "\n",
    "A instrução if verifica uma condição que, se for verdadeira (True), fará o bloco de código que estive escrito na sequência ser interpretado."
   ]
  },
  {
   "cell_type": "code",
   "execution_count": 11,
   "id": "6cb6d783",
   "metadata": {},
   "outputs": [
    {
     "name": "stdout",
     "output_type": "stream",
     "text": [
      "Positivo entre 0 e 5\n"
     ]
    }
   ],
   "source": [
    "x = 2\n",
    "if x < 0:\n",
    "    print('É negativo')\n",
    "elif x == 0:\n",
    "    print('Igual a zero')\n",
    "elif (0 < x < 5):\n",
    "    print('Positivo entre 0 e 5')\n",
    "else:\n",
    "    print('Positivo e maior ou igual a 5')"
   ]
  },
  {
   "cell_type": "markdown",
   "id": "82da6d1a",
   "metadata": {},
   "source": [
    "### For\n",
    "\n",
    "Os comandos <b> For</b> servem para iterar por uma lista de valores. "
   ]
  },
  {
   "cell_type": "code",
   "execution_count": 13,
   "id": "90bf9255",
   "metadata": {},
   "outputs": [
    {
     "name": "stdout",
     "output_type": "stream",
     "text": [
      "primeiro valor\n",
      "segundo valor\n",
      "terceiro valor\n",
      "quarto valor\n"
     ]
    }
   ],
   "source": [
    "lista = ['primeiro valor','segundo valor','terceiro valor','quarto valor']\n",
    "\n",
    "for valor in lista:\n",
    "    print(valor)"
   ]
  },
  {
   "cell_type": "code",
   "execution_count": 18,
   "id": "6e28d943",
   "metadata": {},
   "outputs": [
    {
     "name": "stdout",
     "output_type": "stream",
     "text": [
      "1\n",
      "2\n",
      "3\n",
      "4\n",
      "5\n"
     ]
    }
   ],
   "source": [
    "lista_numeros = [1,0,2,0,3,0,4,0,5]\n",
    "\n",
    "for numero in lista_numeros:\n",
    "    if(numero == 0):\n",
    "        continue\n",
    "    print(numero)"
   ]
  },
  {
   "cell_type": "code",
   "execution_count": 24,
   "id": "af591f49",
   "metadata": {},
   "outputs": [
    {
     "name": "stdout",
     "output_type": "stream",
     "text": [
      "0\n",
      "1\n",
      "2\n",
      "3\n",
      "4\n"
     ]
    }
   ],
   "source": [
    "for i in range(0,5):\n",
    "    print(i)"
   ]
  },
  {
   "cell_type": "code",
   "execution_count": 25,
   "id": "43b13180",
   "metadata": {},
   "outputs": [
    {
     "name": "stdout",
     "output_type": "stream",
     "text": [
      "1\n",
      "0\n",
      "2\n",
      "0\n",
      "3\n"
     ]
    }
   ],
   "source": [
    "for i in range(0,5):\n",
    "    print(lista_numeros[i])"
   ]
  },
  {
   "cell_type": "markdown",
   "id": "f1e2f00a",
   "metadata": {},
   "source": [
    "### While\n",
    "\n",
    "O comando while é uma estrutura que executa um bloco de código até que a condição seja avaliada como False."
   ]
  },
  {
   "cell_type": "code",
   "execution_count": 26,
   "id": "bdeb6fc1",
   "metadata": {},
   "outputs": [
    {
     "name": "stdout",
     "output_type": "stream",
     "text": [
      "0\n",
      "1\n",
      "2\n",
      "3\n",
      "4\n",
      "5\n",
      "6\n",
      "7\n",
      "8\n",
      "9\n"
     ]
    }
   ],
   "source": [
    "x = 0\n",
    "while x < 10:\n",
    "    print(x)\n",
    "    x = x + 1"
   ]
  }
 ],
 "metadata": {
  "kernelspec": {
   "display_name": "Python 3 (ipykernel)",
   "language": "python",
   "name": "python3"
  },
  "language_info": {
   "codemirror_mode": {
    "name": "ipython",
    "version": 3
   },
   "file_extension": ".py",
   "mimetype": "text/x-python",
   "name": "python",
   "nbconvert_exporter": "python",
   "pygments_lexer": "ipython3",
   "version": "3.9.7"
  }
 },
 "nbformat": 4,
 "nbformat_minor": 5
}
