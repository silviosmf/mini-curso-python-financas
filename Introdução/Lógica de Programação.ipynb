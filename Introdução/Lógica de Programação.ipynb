{
 "cells": [
  {
   "attachments": {
    "image.png": {
     "image/png": "[encoded data removed]"
    }
   },
   "cell_type": "markdown",
   "id": "fda4f44b",
   "metadata": {},
   "source": [
    "### Programa\n",
    "\n",
    "Conjunto de instruções que contém as operações necessárias para, a partir de dados inseridos, obter um resultado que será disponibilizado por algum dispositivo de saída (XAVIER, 2018).\n",
    "\n",
    "De modo geral, os programas de computadores são executados a partir da recepção de informações externada (Entrada), da execução das informações, com as quais foram previamente defindas pelo programados (Processamento) e do retorno dos dados após a finalização das instruções (Saída)\n",
    "\n",
    "![image.png](attachment:image.png)\n",
    "\n",
    "#### Entrada\n",
    "* Dados envidados por teclado, leitores ópticos, leitura de arquivos texto ou de imagens...\n",
    "\n",
    "#### Processamentos\n",
    "* Conjunto de instruções executados por uma linguagem de programação que foram anteriorementes escritas por programados.\n",
    "\n",
    "#### Saída\n",
    "* Retorno visuais nos monitores dos computadores, impressões, arquivos gravados em disco...\n",
    "\n",
    "### Linguagem de programação\n",
    "\n",
    "Conjunto de repsentações e/ou regras utilizadas para criar programas. Por meio delas você estabelece uma comunicação com o computador, fazendo com que ele compreenda e execute o que você determinar (XAVIER, 2018)."
   ]
  },
  {
   "cell_type": "code",
   "execution_count": null,
   "id": "ff4ebe6a",
   "metadata": {},
   "outputs": [],
   "source": []
  },
  {
   "cell_type": "code",
   "execution_count": null,
   "id": "fa750bad",
   "metadata": {},
   "outputs": [],
   "source": []
  },
  {
   "cell_type": "markdown",
   "id": "d8ed21ea",
   "metadata": {},
   "source": [
    "XAVIER, Gley Fabiano Cardoso. Lógica de Programação. 13ª ed. Senac, 2018. \n",
    "https://www.amazon.com.br/L%C3%B3gica-programa%C3%A7%C3%A3o-Inform%C3%A1tica-Fabiano-Cardoso-ebook/dp/B07G4HMK2P"
   ]
  }
 ],
 "metadata": {
  "kernelspec": {
   "display_name": "Python 3 (ipykernel)",
   "language": "python",
   "name": "python3"
  },
  "language_info": {
   "codemirror_mode": {
    "name": "ipython",
    "version": 3
   },
   "file_extension": ".py",
   "mimetype": "text/x-python",
   "name": "python",
   "nbconvert_exporter": "python",
   "pygments_lexer": "ipython3",
   "version": "3.9.7"
  }
 },
 "nbformat": 4,
 "nbformat_minor": 5
}
