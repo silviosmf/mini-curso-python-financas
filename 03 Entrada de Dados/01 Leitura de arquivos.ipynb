{
 "cells": [
  {
   "cell_type": "markdown",
   "id": "1d2bfad6",
   "metadata": {},
   "source": [
    "### Trabalhando com arquivos TXT"
   ]
  },
  {
   "cell_type": "code",
   "execution_count": 116,
   "id": "13beb38e",
   "metadata": {},
   "outputs": [],
   "source": [
    "arquivo = open('dados/arquivo_texto.txt', encoding='UTF-8')"
   ]
  },
  {
   "cell_type": "code",
   "execution_count": 34,
   "id": "fac2eb99",
   "metadata": {},
   "outputs": [],
   "source": [
    "str_arq = arquivo.read()"
   ]
  },
  {
   "cell_type": "code",
   "execution_count": 35,
   "id": "fceb9616",
   "metadata": {},
   "outputs": [
    {
     "data": {
      "text/plain": [
       "str"
      ]
     },
     "execution_count": 35,
     "metadata": {},
     "output_type": "execute_result"
    }
   ],
   "source": [
    "type(str_arq)"
   ]
  },
  {
   "cell_type": "code",
   "execution_count": 115,
   "id": "d107d61c",
   "metadata": {},
   "outputs": [
    {
     "data": {
      "text/plain": [
       "'Bem vindo! Você é completamente novo em programação? Caso contrário, presumimos que você estará procurando informações sobre por que e como começar com o Python. Felizmente, um programador experiente em qualquer linguagem de programação (seja ela qual for) pode aprender Python muito rapidamente. Também é fácil para iniciantes usar e aprender, então entre!'"
      ]
     },
     "execution_count": 115,
     "metadata": {},
     "output_type": "execute_result"
    }
   ],
   "source": [
    "str_arq"
   ]
  },
  {
   "cell_type": "markdown",
   "id": "3350b708",
   "metadata": {},
   "source": [
    "### Trabalhando com arquivos CSV"
   ]
  },
  {
   "cell_type": "code",
   "execution_count": 92,
   "id": "a6b09ca6",
   "metadata": {},
   "outputs": [],
   "source": [
    "arquivo_csv = open('dados/resumo_4T_2020.csv', encoding='UTF-8')"
   ]
  },
  {
   "cell_type": "code",
   "execution_count": 93,
   "id": "2434becb",
   "metadata": {},
   "outputs": [],
   "source": [
    "str_csv = arquivo_csv.read()[1:]"
   ]
  },
  {
   "cell_type": "code",
   "execution_count": 94,
   "id": "1876ed8b",
   "metadata": {},
   "outputs": [
    {
     "data": {
      "text/plain": [
       "['Instituição financeira',\n",
       " 'Código',\n",
       " 'Conglomerado',\n",
       " 'Conglomerado Financeiro',\n",
       " 'Conglomerado Prudencial',\n",
       " 'TCB',\n",
       " 'TC',\n",
       " 'TI',\n",
       " 'Cidade',\n",
       " 'UF',\n",
       " 'Data',\n",
       " 'Ativo Total',\n",
       " 'Carteira de Crédito Classificada',\n",
       " 'Passivo Circulante e Exigível a Longo Prazo e Resultados de Exercícios Futuros',\n",
       " 'Captações',\n",
       " 'Patrimônio Líquido',\n",
       " 'Lucro Líquido',\n",
       " 'Número de Agências',\n",
       " 'Número de Postos de Atendimento',\n",
       " '']"
      ]
     },
     "execution_count": 94,
     "metadata": {},
     "output_type": "execute_result"
    }
   ],
   "source": [
    "str_csv.split('\\n')[0].split(';')"
   ]
  },
  {
   "cell_type": "code",
   "execution_count": 95,
   "id": "a4e8dde2",
   "metadata": {},
   "outputs": [
    {
     "data": {
      "text/plain": [
       "19"
      ]
     },
     "execution_count": 95,
     "metadata": {},
     "output_type": "execute_result"
    }
   ],
   "source": [
    "len(str_csv.split('\\n')[1].split(';'))"
   ]
  },
  {
   "cell_type": "code",
   "execution_count": 101,
   "id": "740a5804",
   "metadata": {},
   "outputs": [
    {
     "data": {
      "text/plain": [
       "{'Instituição financeira': 'BANCO DO BRASIL S.A.',\n",
       " 'Ativo Total': '1.644.707.858'}"
      ]
     },
     "metadata": {},
     "output_type": "display_data"
    },
    {
     "data": {
      "text/plain": [
       "{'Instituição financeira': 'CAIXA ECONOMICA FEDERAL',\n",
       " 'Ativo Total': '1.448.929.819'}"
      ]
     },
     "metadata": {},
     "output_type": "display_data"
    },
    {
     "data": {
      "text/plain": [
       "{'Instituição financeira': 'BANCO BRADESCO S.A.',\n",
       " 'Ativo Total': '1.353.392.708'}"
      ]
     },
     "metadata": {},
     "output_type": "display_data"
    },
    {
     "data": {
      "text/plain": [
       "{'Instituição financeira': 'ITAÚ UNIBANCO S.A.',\n",
       " 'Ativo Total': '1.326.542.174'}"
      ]
     },
     "metadata": {},
     "output_type": "display_data"
    },
    {
     "data": {
      "text/plain": [
       "{'Instituição financeira': 'BANCO SANTANDER (BRASIL) S.A.',\n",
       " 'Ativo Total': '964.182.967'}"
      ]
     },
     "metadata": {},
     "output_type": "display_data"
    },
    {
     "data": {
      "text/plain": [
       "{'Instituição financeira': 'BANCO NACIONAL DE DESENVOLVIMENTO ECONOMICO E SOCIAL',\n",
       " 'Ativo Total': '798.364.832'}"
      ]
     },
     "metadata": {},
     "output_type": "display_data"
    },
    {
     "data": {
      "text/plain": [
       "{'Instituição financeira': 'BANCO BTG PACTUAL S.A.',\n",
       " 'Ativo Total': '225.092.606'}"
      ]
     },
     "metadata": {},
     "output_type": "display_data"
    },
    {
     "data": {
      "text/plain": [
       "{'Instituição financeira': 'BANCO SAFRA S.A.', 'Ativo Total': '208.578.285'}"
      ]
     },
     "metadata": {},
     "output_type": "display_data"
    },
    {
     "data": {
      "text/plain": [
       "{'Instituição financeira': 'ITAÚ UNIBANCO HOLDING S.A.',\n",
       " 'Ativo Total': '148.602.101'}"
      ]
     },
     "metadata": {},
     "output_type": "display_data"
    }
   ],
   "source": [
    "lista_banco = []\n",
    "for i in range(1,10):\n",
    "    linha = str_csv.split('\\n')[i].split(';')\n",
    "    banco = {\n",
    "        'Instituição financeira':linha[0],\n",
    "        'Ativo Total':linha[11]\n",
    "    }\n",
    "    lista_banco.append(banco)\n",
    "    display(banco)"
   ]
  },
  {
   "cell_type": "code",
   "execution_count": 114,
   "id": "759e0af5",
   "metadata": {},
   "outputs": [
    {
     "data": {
      "text/plain": [
       "'964.182.967'"
      ]
     },
     "metadata": {},
     "output_type": "display_data"
    }
   ],
   "source": [
    "for banco in lista_banco:\n",
    "    if (banco['Instituição financeira'] == 'BANCO SANTANDER (BRASIL) S.A.'):\n",
    "        display(banco['Ativo Total'])\n",
    "        break"
   ]
  },
  {
   "cell_type": "code",
   "execution_count": 4,
   "id": "4dc6c058",
   "metadata": {},
   "outputs": [],
   "source": [
    "excel = open('dados/questionario.xlsx')"
   ]
  },
  {
   "cell_type": "code",
   "execution_count": 5,
   "id": "42cafe2b",
   "metadata": {},
   "outputs": [
    {
     "ename": "UnicodeDecodeError",
     "evalue": "'charmap' codec can't decode byte 0x9d in position 54: character maps to <undefined>",
     "output_type": "error",
     "traceback": [
      "\u001b[1;31m---------------------------------------------------------------------------\u001b[0m",
      "\u001b[1;31mUnicodeDecodeError\u001b[0m                        Traceback (most recent call last)",
      "\u001b[1;32m~\\AppData\\Local\\Temp/ipykernel_6600/729532578.py\u001b[0m in \u001b[0;36m<module>\u001b[1;34m\u001b[0m\n\u001b[1;32m----> 1\u001b[1;33m \u001b[0mexcel\u001b[0m\u001b[1;33m.\u001b[0m\u001b[0mread\u001b[0m\u001b[1;33m(\u001b[0m\u001b[1;33m)\u001b[0m\u001b[1;33m\u001b[0m\u001b[1;33m\u001b[0m\u001b[0m\n\u001b[0m",
      "\u001b[1;32m~\\anaconda3\\envs\\Python\\lib\\encodings\\cp1252.py\u001b[0m in \u001b[0;36mdecode\u001b[1;34m(self, input, final)\u001b[0m\n\u001b[0;32m     21\u001b[0m \u001b[1;32mclass\u001b[0m \u001b[0mIncrementalDecoder\u001b[0m\u001b[1;33m(\u001b[0m\u001b[0mcodecs\u001b[0m\u001b[1;33m.\u001b[0m\u001b[0mIncrementalDecoder\u001b[0m\u001b[1;33m)\u001b[0m\u001b[1;33m:\u001b[0m\u001b[1;33m\u001b[0m\u001b[1;33m\u001b[0m\u001b[0m\n\u001b[0;32m     22\u001b[0m     \u001b[1;32mdef\u001b[0m \u001b[0mdecode\u001b[0m\u001b[1;33m(\u001b[0m\u001b[0mself\u001b[0m\u001b[1;33m,\u001b[0m \u001b[0minput\u001b[0m\u001b[1;33m,\u001b[0m \u001b[0mfinal\u001b[0m\u001b[1;33m=\u001b[0m\u001b[1;32mFalse\u001b[0m\u001b[1;33m)\u001b[0m\u001b[1;33m:\u001b[0m\u001b[1;33m\u001b[0m\u001b[1;33m\u001b[0m\u001b[0m\n\u001b[1;32m---> 23\u001b[1;33m         \u001b[1;32mreturn\u001b[0m \u001b[0mcodecs\u001b[0m\u001b[1;33m.\u001b[0m\u001b[0mcharmap_decode\u001b[0m\u001b[1;33m(\u001b[0m\u001b[0minput\u001b[0m\u001b[1;33m,\u001b[0m\u001b[0mself\u001b[0m\u001b[1;33m.\u001b[0m\u001b[0merrors\u001b[0m\u001b[1;33m,\u001b[0m\u001b[0mdecoding_table\u001b[0m\u001b[1;33m)\u001b[0m\u001b[1;33m[\u001b[0m\u001b[1;36m0\u001b[0m\u001b[1;33m]\u001b[0m\u001b[1;33m\u001b[0m\u001b[1;33m\u001b[0m\u001b[0m\n\u001b[0m\u001b[0;32m     24\u001b[0m \u001b[1;33m\u001b[0m\u001b[0m\n\u001b[0;32m     25\u001b[0m \u001b[1;32mclass\u001b[0m \u001b[0mStreamWriter\u001b[0m\u001b[1;33m(\u001b[0m\u001b[0mCodec\u001b[0m\u001b[1;33m,\u001b[0m\u001b[0mcodecs\u001b[0m\u001b[1;33m.\u001b[0m\u001b[0mStreamWriter\u001b[0m\u001b[1;33m)\u001b[0m\u001b[1;33m:\u001b[0m\u001b[1;33m\u001b[0m\u001b[1;33m\u001b[0m\u001b[0m\n",
      "\u001b[1;31mUnicodeDecodeError\u001b[0m: 'charmap' codec can't decode byte 0x9d in position 54: character maps to <undefined>"
     ]
    }
   ],
   "source": [
    "excel.read()"
   ]
  },
  {
   "cell_type": "code",
   "execution_count": null,
   "id": "35fbaeef",
   "metadata": {},
   "outputs": [],
   "source": []
  }
 ],
 "metadata": {
  "kernelspec": {
   "display_name": "Python 3 (ipykernel)",
   "language": "python",
   "name": "python3"
  },
  "language_info": {
   "codemirror_mode": {
    "name": "ipython",
    "version": 3
   },
   "file_extension": ".py",
   "mimetype": "text/x-python",
   "name": "python",
   "nbconvert_exporter": "python",
   "pygments_lexer": "ipython3",
   "version": "3.7.11"
  }
 },
 "nbformat": 4,
 "nbformat_minor": 5
}
