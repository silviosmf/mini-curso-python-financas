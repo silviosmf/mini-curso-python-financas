{
 "cells": [
  {
   "cell_type": "code",
   "execution_count": 13,
   "id": "391f1d3d",
   "metadata": {},
   "outputs": [],
   "source": [
    "import pandas as pd\n",
    "import requests\n",
    "import html5lib\n",
    "from bs4 import BeautifulSoup"
   ]
  },
  {
   "cell_type": "code",
   "execution_count": 63,
   "id": "2e838475",
   "metadata": {},
   "outputs": [],
   "source": [
    "# url = 'https://www.b3.com.br/pt_br/market-data-e-indices/indices/indices-amplos/indice-ibovespa-ibovespa-composicao-da-carteira.htm'\n",
    "url = 'https://www.fundamentus.com.br/detalhes.php?papel='\n",
    "\n",
    "html_content = requests.get(url).text\n",
    "\n",
    "# Parse the html content\n",
    "soup = BeautifulSoup(html_content, \"html.parser\")\n",
    "\n",
    "# df_ibov = pd.read_html(html_content)"
   ]
  },
  {
   "cell_type": "code",
   "execution_count": 52,
   "id": "05d972be",
   "metadata": {},
   "outputs": [],
   "source": [
    "for linha in soup.find_all('table', {\"class\": \"table\"}):\n",
    "    print(linha)\n",
    "    print('-----')"
   ]
  },
  {
   "cell_type": "code",
   "execution_count": 59,
   "id": "beb0ba0e",
   "metadata": {},
   "outputs": [
    {
     "data": {
      "text/plain": [
       "[]"
      ]
     },
     "execution_count": 59,
     "metadata": {},
     "output_type": "execute_result"
    }
   ],
   "source": [
    "soup.find_all('h2')"
   ]
  },
  {
   "cell_type": "code",
   "execution_count": 64,
   "id": "320e742e",
   "metadata": {},
   "outputs": [
    {
     "data": {
      "text/plain": [
       "Access denied"
      ]
     },
     "execution_count": 64,
     "metadata": {},
     "output_type": "execute_result"
    }
   ],
   "source": [
    "soup"
   ]
  },
  {
   "cell_type": "code",
   "execution_count": null,
   "id": "1e2ec24f",
   "metadata": {},
   "outputs": [],
   "source": []
  }
 ],
 "metadata": {
  "kernelspec": {
   "display_name": "Python 3 (ipykernel)",
   "language": "python",
   "name": "python3"
  },
  "language_info": {
   "codemirror_mode": {
    "name": "ipython",
    "version": 3
   },
   "file_extension": ".py",
   "mimetype": "text/x-python",
   "name": "python",
   "nbconvert_exporter": "python",
   "pygments_lexer": "ipython3",
   "version": "3.7.11"
  }
 },
 "nbformat": 4,
 "nbformat_minor": 5
}
