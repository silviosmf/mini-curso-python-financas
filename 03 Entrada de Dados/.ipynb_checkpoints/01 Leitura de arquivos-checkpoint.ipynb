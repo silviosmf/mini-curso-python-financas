{
 "cells": [
  {
   "cell_type": "code",
   "execution_count": 33,
   "id": "13beb38e",
   "metadata": {},
   "outputs": [],
   "source": [
    "arquivo = open('dados/arquivo_texto.txt', encoding='UTF-8')"
   ]
  },
  {
   "cell_type": "code",
   "execution_count": 34,
   "id": "b37f5b2b",
   "metadata": {},
   "outputs": [],
   "source": [
    "str_arq = arquivo.read()"
   ]
  },
  {
   "cell_type": "code",
   "execution_count": 35,
   "id": "975c6bcb",
   "metadata": {},
   "outputs": [
    {
     "data": {
      "text/plain": [
       "str"
      ]
     },
     "execution_count": 35,
     "metadata": {},
     "output_type": "execute_result"
    }
   ],
   "source": [
    "type(str_arq)"
   ]
  },
  {
   "cell_type": "code",
   "execution_count": 36,
   "id": "326bc413",
   "metadata": {},
   "outputs": [
    {
     "data": {
      "text/plain": [
       "'Bem vindo! Você é completamente novo em programação? Caso contrário, presumimos que você estará procurando informações sobre por que e como começar com o Python. Felizmente, um programador experiente em qualquer linguagem de programação (seja ela qual for) pode aprender Python muito rapidamente. Também é fácil para iniciantes usar e aprender, então entre!'"
      ]
     },
     "execution_count": 36,
     "metadata": {},
     "output_type": "execute_result"
    }
   ],
   "source": [
    "str_arq"
   ]
  },
  {
   "cell_type": "code",
   "execution_count": null,
   "id": "03d7646f",
   "metadata": {},
   "outputs": [],
   "source": []
  }
 ],
 "metadata": {
  "kernelspec": {
   "display_name": "Python 3 (ipykernel)",
   "language": "python",
   "name": "python3"
  },
  "language_info": {
   "codemirror_mode": {
    "name": "ipython",
    "version": 3
   },
   "file_extension": ".py",
   "mimetype": "text/x-python",
   "name": "python",
   "nbconvert_exporter": "python",
   "pygments_lexer": "ipython3",
   "version": "3.7.11"
  }
 },
 "nbformat": 4,
 "nbformat_minor": 5
}
