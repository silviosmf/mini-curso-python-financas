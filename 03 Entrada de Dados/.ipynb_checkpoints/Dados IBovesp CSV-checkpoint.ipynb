{
 "cells": [
  {
   "cell_type": "code",
   "execution_count": 25,
   "id": "36c3553b",
   "metadata": {},
   "outputs": [],
   "source": [
    "import pandas as pd\n",
    "import yfinance as yf\n",
    "pd.set_option(\"display.max_rows\", 500)\n",
    "pd.set_option('display.max_columns', 500)"
   ]
  },
  {
   "cell_type": "code",
   "execution_count": 2,
   "id": "ecbc4093",
   "metadata": {},
   "outputs": [],
   "source": [
    "df_ibov = pd.read_csv('dados/b3/IBOVDia_02-03-22.csv', encoding='UTF-8', sep=';')"
   ]
  },
  {
   "cell_type": "code",
   "execution_count": 3,
   "id": "824b91a8",
   "metadata": {},
   "outputs": [
    {
     "data": {
      "text/html": [
       "<div>\n",
       "<style scoped>\n",
       "    .dataframe tbody tr th:only-of-type {\n",
       "        vertical-align: middle;\n",
       "    }\n",
       "\n",
       "    .dataframe tbody tr th {\n",
       "        vertical-align: top;\n",
       "    }\n",
       "\n",
       "    .dataframe thead th {\n",
       "        text-align: right;\n",
       "    }\n",
       "</style>\n",
       "<table border=\"1\" class=\"dataframe\">\n",
       "  <thead>\n",
       "    <tr style=\"text-align: right;\">\n",
       "      <th></th>\n",
       "      <th>Codigo</th>\n",
       "      <th>Acao</th>\n",
       "      <th>Tipo</th>\n",
       "      <th>Qtde. Teorica</th>\n",
       "      <th>Part. (%)</th>\n",
       "    </tr>\n",
       "  </thead>\n",
       "  <tbody>\n",
       "    <tr>\n",
       "      <th>0</th>\n",
       "      <td>RRRP3</td>\n",
       "      <td>3R PETROLEUM</td>\n",
       "      <td>ON      NM</td>\n",
       "      <td>199.733.824</td>\n",
       "      <td>0,314</td>\n",
       "    </tr>\n",
       "    <tr>\n",
       "      <th>1</th>\n",
       "      <td>ALPA4</td>\n",
       "      <td>ALPARGATAS</td>\n",
       "      <td>PN      N1</td>\n",
       "      <td>167.963.777</td>\n",
       "      <td>0,201</td>\n",
       "    </tr>\n",
       "    <tr>\n",
       "      <th>2</th>\n",
       "      <td>ABEV3</td>\n",
       "      <td>AMBEV S/A</td>\n",
       "      <td>ON</td>\n",
       "      <td>4.359.908.680</td>\n",
       "      <td>3,076</td>\n",
       "    </tr>\n",
       "    <tr>\n",
       "      <th>3</th>\n",
       "      <td>AMER3</td>\n",
       "      <td>AMERICANAS</td>\n",
       "      <td>ON      NM</td>\n",
       "      <td>571.352.399</td>\n",
       "      <td>0,809</td>\n",
       "    </tr>\n",
       "    <tr>\n",
       "      <th>4</th>\n",
       "      <td>ASAI3</td>\n",
       "      <td>ASSAI</td>\n",
       "      <td>ON      NM</td>\n",
       "      <td>794.310.097</td>\n",
       "      <td>0,496</td>\n",
       "    </tr>\n",
       "  </tbody>\n",
       "</table>\n",
       "</div>"
      ],
      "text/plain": [
       "  Codigo          Acao        Tipo  Qtde. Teorica Part. (%)\n",
       "0  RRRP3  3R PETROLEUM  ON      NM    199.733.824     0,314\n",
       "1  ALPA4    ALPARGATAS  PN      N1    167.963.777     0,201\n",
       "2  ABEV3     AMBEV S/A          ON  4.359.908.680     3,076\n",
       "3  AMER3    AMERICANAS  ON      NM    571.352.399     0,809\n",
       "4  ASAI3         ASSAI  ON      NM    794.310.097     0,496"
      ]
     },
     "execution_count": 3,
     "metadata": {},
     "output_type": "execute_result"
    }
   ],
   "source": [
    "# listas as informações Nan no campo ação\n",
    "# df_ibov[df_ibov['Ação'].isna()]\n",
    "df_ibov.head()"
   ]
  },
  {
   "cell_type": "code",
   "execution_count": 4,
   "id": "b4f18c35",
   "metadata": {},
   "outputs": [],
   "source": [
    "# Remover as linhas que possuem valor Nan\n",
    "df_ibov.dropna(inplace=True)"
   ]
  },
  {
   "cell_type": "code",
   "execution_count": 115,
   "id": "d9a8de20",
   "metadata": {},
   "outputs": [],
   "source": [
    "df_cnpj = pd.read_csv('dados/b3/cad_cia_aberta.csv', encoding='ISO-8859-1', sep=';')"
   ]
  },
  {
   "cell_type": "code",
   "execution_count": 116,
   "id": "28b18297",
   "metadata": {},
   "outputs": [],
   "source": [
    "# Preencher na denominação comercial com valores de denominação social, caso esteja vazio \n",
    "df_cnpj['DENOM_COMERC'] = df_cnpj['DENOM_COMERC'].fillna(df_cnpj['DENOM_SOCIAL'])"
   ]
  },
  {
   "cell_type": "code",
   "execution_count": 117,
   "id": "92e93c2f",
   "metadata": {},
   "outputs": [],
   "source": [
    "# df_cnpj['SETOR_ATIV'].unique()\n",
    "# df_cnpj.groupby('SETOR_ATIV').count()"
   ]
  },
  {
   "cell_type": "markdown",
   "id": "8fca71fe",
   "metadata": {},
   "source": [
    "Incluir as informações de CNPJ contidas no arquivo cad_cia_aberta.csv no conjunto de dados das ações do IBOVESPA"
   ]
  },
  {
   "cell_type": "code",
   "execution_count": 129,
   "id": "6df26f4f",
   "metadata": {},
   "outputs": [],
   "source": [
    "df_ibovespa = pd.DataFrame()\n",
    "list_df = []\n",
    "for i in range(0,len(df_ibov)):\n",
    "    acao = df_ibov.iloc[i]\n",
    "#     df_ = df_cnpj[df_cnpj['DENOM_SOCIAL'].str.contains(acao['Acao'][0:3])][['CNPJ_CIA','DENOM_SOCIAL','SETOR_ATIV']]\n",
    "    df_ = df_cnpj[df_cnpj['DENOM_COMERC'].str.contains(acao['Acao'].split(' ')[0])][['CNPJ_CIA','DENOM_COMERC','SETOR_ATIV']]\n",
    "    df_['CODIGO'] = acao['Codigo']\n",
    "    df_['ACAO'] = acao['Acao']\n",
    "    df_.reset_index(inplace=True, drop=True)\n",
    "    if(len(df_) > 0):\n",
    "        df_ = pd.DataFrame([df_.iloc[0]])\n",
    "        df_ibovespa = pd.concat([df_ibovespa,df_])\n",
    "    else:\n",
    "        #Coleta empresas que não foram identificadas\n",
    "        list_df.append(acao['Acao'])\n",
    "df_ibovespa.reset_index(inplace=True,drop=True)"
   ]
  },
  {
   "cell_type": "code",
   "execution_count": 130,
   "id": "6a8f6711",
   "metadata": {},
   "outputs": [
    {
     "data": {
      "text/html": [
       "<div>\n",
       "<style scoped>\n",
       "    .dataframe tbody tr th:only-of-type {\n",
       "        vertical-align: middle;\n",
       "    }\n",
       "\n",
       "    .dataframe tbody tr th {\n",
       "        vertical-align: top;\n",
       "    }\n",
       "\n",
       "    .dataframe thead th {\n",
       "        text-align: right;\n",
       "    }\n",
       "</style>\n",
       "<table border=\"1\" class=\"dataframe\">\n",
       "  <thead>\n",
       "    <tr style=\"text-align: right;\">\n",
       "      <th></th>\n",
       "      <th>CNPJ_CIA</th>\n",
       "      <th>DENOM_COMERC</th>\n",
       "      <th>SETOR_ATIV</th>\n",
       "      <th>CODIGO</th>\n",
       "      <th>ACAO</th>\n",
       "    </tr>\n",
       "  </thead>\n",
       "  <tbody>\n",
       "    <tr>\n",
       "      <th>0</th>\n",
       "      <td>12.091.809/0001-55</td>\n",
       "      <td>3R PETROLEUM OLÉO E GÁS S.A.</td>\n",
       "      <td>Petróleo e Gás</td>\n",
       "      <td>RRRP3</td>\n",
       "      <td>3R PETROLEUM</td>\n",
       "    </tr>\n",
       "    <tr>\n",
       "      <th>1</th>\n",
       "      <td>61.079.117/0001-05</td>\n",
       "      <td>ALPARGATAS</td>\n",
       "      <td>Têxtil e Vestuário</td>\n",
       "      <td>ALPA4</td>\n",
       "      <td>ALPARGATAS</td>\n",
       "    </tr>\n",
       "    <tr>\n",
       "      <th>2</th>\n",
       "      <td>07.526.557/0001-00</td>\n",
       "      <td>AMBEV S.A</td>\n",
       "      <td>Bebidas e Fumo</td>\n",
       "      <td>ABEV3</td>\n",
       "      <td>AMBEV S/A</td>\n",
       "    </tr>\n",
       "    <tr>\n",
       "      <th>3</th>\n",
       "      <td>00.776.574/0001-56</td>\n",
       "      <td>AMERICANAS S.A.</td>\n",
       "      <td>Comércio (Atacado e Varejo)</td>\n",
       "      <td>AMER3</td>\n",
       "      <td>AMERICANAS</td>\n",
       "    </tr>\n",
       "    <tr>\n",
       "      <th>4</th>\n",
       "      <td>06.057.223/0001-71</td>\n",
       "      <td>ASSAI</td>\n",
       "      <td>Comércio (Atacado e Varejo)</td>\n",
       "      <td>ASAI3</td>\n",
       "      <td>ASSAI</td>\n",
       "    </tr>\n",
       "  </tbody>\n",
       "</table>\n",
       "</div>"
      ],
      "text/plain": [
       "             CNPJ_CIA                  DENOM_COMERC  \\\n",
       "0  12.091.809/0001-55  3R PETROLEUM OLÉO E GÁS S.A.   \n",
       "1  61.079.117/0001-05                    ALPARGATAS   \n",
       "2  07.526.557/0001-00                     AMBEV S.A   \n",
       "3  00.776.574/0001-56               AMERICANAS S.A.   \n",
       "4  06.057.223/0001-71                         ASSAI   \n",
       "\n",
       "                    SETOR_ATIV CODIGO          ACAO  \n",
       "0               Petróleo e Gás  RRRP3  3R PETROLEUM  \n",
       "1           Têxtil e Vestuário  ALPA4    ALPARGATAS  \n",
       "2               Bebidas e Fumo  ABEV3     AMBEV S/A  \n",
       "3  Comércio (Atacado e Varejo)  AMER3    AMERICANAS  \n",
       "4  Comércio (Atacado e Varejo)  ASAI3         ASSAI  "
      ]
     },
     "execution_count": 130,
     "metadata": {},
     "output_type": "execute_result"
    }
   ],
   "source": [
    "df_ibovespa.head()"
   ]
  },
  {
   "cell_type": "markdown",
   "id": "7cc84cfe",
   "metadata": {},
   "source": [
    "Coletar informação dos setores no Yahoo Finance"
   ]
  },
  {
   "cell_type": "code",
   "execution_count": 124,
   "id": "e04724c4",
   "metadata": {},
   "outputs": [],
   "source": [
    "# ticker = 'PETR4.SA'\n",
    "# setor = yf.Ticker(ticker).info['sector']\n",
    "# setor\n",
    "# df_ibovespa['SETOR'] = df_ibovespa['CODIGO'].apply(lambda x: yf.Ticker(x+'.SA').info['sector'])"
   ]
  },
  {
   "cell_type": "markdown",
   "id": "47138a9a",
   "metadata": {},
   "source": [
    "Alterar nomes do DataFrame"
   ]
  },
  {
   "cell_type": "code",
   "execution_count": 131,
   "id": "285529e1",
   "metadata": {},
   "outputs": [],
   "source": [
    "df_ibovespa.columns = ['CNPJ','NOME_EMPRESA','SETOR','TICKER','NOME']"
   ]
  },
  {
   "cell_type": "code",
   "execution_count": 132,
   "id": "c2d5f03d",
   "metadata": {},
   "outputs": [
    {
     "data": {
      "text/html": [
       "<div>\n",
       "<style scoped>\n",
       "    .dataframe tbody tr th:only-of-type {\n",
       "        vertical-align: middle;\n",
       "    }\n",
       "\n",
       "    .dataframe tbody tr th {\n",
       "        vertical-align: top;\n",
       "    }\n",
       "\n",
       "    .dataframe thead th {\n",
       "        text-align: right;\n",
       "    }\n",
       "</style>\n",
       "<table border=\"1\" class=\"dataframe\">\n",
       "  <thead>\n",
       "    <tr style=\"text-align: right;\">\n",
       "      <th></th>\n",
       "      <th>CNPJ</th>\n",
       "      <th>NOME_EMPRESA</th>\n",
       "      <th>SETOR</th>\n",
       "      <th>TICKER</th>\n",
       "      <th>NOME</th>\n",
       "    </tr>\n",
       "  </thead>\n",
       "  <tbody>\n",
       "    <tr>\n",
       "      <th>0</th>\n",
       "      <td>12.091.809/0001-55</td>\n",
       "      <td>3R PETROLEUM OLÉO E GÁS S.A.</td>\n",
       "      <td>Petróleo e Gás</td>\n",
       "      <td>RRRP3</td>\n",
       "      <td>3R PETROLEUM</td>\n",
       "    </tr>\n",
       "    <tr>\n",
       "      <th>1</th>\n",
       "      <td>61.079.117/0001-05</td>\n",
       "      <td>ALPARGATAS</td>\n",
       "      <td>Têxtil e Vestuário</td>\n",
       "      <td>ALPA4</td>\n",
       "      <td>ALPARGATAS</td>\n",
       "    </tr>\n",
       "    <tr>\n",
       "      <th>2</th>\n",
       "      <td>07.526.557/0001-00</td>\n",
       "      <td>AMBEV S.A</td>\n",
       "      <td>Bebidas e Fumo</td>\n",
       "      <td>ABEV3</td>\n",
       "      <td>AMBEV S/A</td>\n",
       "    </tr>\n",
       "    <tr>\n",
       "      <th>3</th>\n",
       "      <td>00.776.574/0001-56</td>\n",
       "      <td>AMERICANAS S.A.</td>\n",
       "      <td>Comércio (Atacado e Varejo)</td>\n",
       "      <td>AMER3</td>\n",
       "      <td>AMERICANAS</td>\n",
       "    </tr>\n",
       "    <tr>\n",
       "      <th>4</th>\n",
       "      <td>06.057.223/0001-71</td>\n",
       "      <td>ASSAI</td>\n",
       "      <td>Comércio (Atacado e Varejo)</td>\n",
       "      <td>ASAI3</td>\n",
       "      <td>ASSAI</td>\n",
       "    </tr>\n",
       "  </tbody>\n",
       "</table>\n",
       "</div>"
      ],
      "text/plain": [
       "                 CNPJ                  NOME_EMPRESA  \\\n",
       "0  12.091.809/0001-55  3R PETROLEUM OLÉO E GÁS S.A.   \n",
       "1  61.079.117/0001-05                    ALPARGATAS   \n",
       "2  07.526.557/0001-00                     AMBEV S.A   \n",
       "3  00.776.574/0001-56               AMERICANAS S.A.   \n",
       "4  06.057.223/0001-71                         ASSAI   \n",
       "\n",
       "                         SETOR TICKER          NOME  \n",
       "0               Petróleo e Gás  RRRP3  3R PETROLEUM  \n",
       "1           Têxtil e Vestuário  ALPA4    ALPARGATAS  \n",
       "2               Bebidas e Fumo  ABEV3     AMBEV S/A  \n",
       "3  Comércio (Atacado e Varejo)  AMER3    AMERICANAS  \n",
       "4  Comércio (Atacado e Varejo)  ASAI3         ASSAI  "
      ]
     },
     "execution_count": 132,
     "metadata": {},
     "output_type": "execute_result"
    }
   ],
   "source": [
    "df_ibovespa.head()"
   ]
  },
  {
   "cell_type": "markdown",
   "id": "dc754d67",
   "metadata": {},
   "source": [
    "Quantidade de empresas por setor"
   ]
  },
  {
   "cell_type": "code",
   "execution_count": 138,
   "id": "3243247b",
   "metadata": {},
   "outputs": [
    {
     "data": {
      "text/plain": [
       "SETOR\n",
       "Comércio (Atacado e Varejo)                                11\n",
       "Energia Elétrica                                           10\n",
       "Bancos                                                      5\n",
       "Comunicação e Informática                                   5\n",
       "Metalurgia e Siderurgia                                     5\n",
       "Petróleo e Gás                                              4\n",
       "Emp. Adm. Part. - Serviços Transporte e Logística           3\n",
       "Emp. Adm. Part. - Energia Elétrica                          3\n",
       "Intermediação Financeira                                    3\n",
       "Construção Civil, Mat. Constr. e Decoração                  3\n",
       "Serviços Transporte e Logística                             3\n",
       "Petroquímicos e Borracha                                    2\n",
       "Papel e Celulose                                            2\n",
       "Emp. Adm. Part. - Petróleo e Gás                            2\n",
       "Seguradoras e Corretoras                                    2\n",
       "Serviços Médicos                                            2\n",
       "Alimentos                                                   2\n",
       "Têxtil e Vestuário                                          2\n",
       "Emp. Adm. Part. - Educação                                  2\n",
       "Emp. Adm. Part. - Const. Civil, Mat. Const. e Decoração     2\n",
       "Emp. Adm. Part. - Sem Setor Principal                       1\n",
       "Emp. Adm. Part. - Comércio (Atacado e Varejo)               1\n",
       "Telecomunicações                                            1\n",
       "Arrendamento Mercantil                                      1\n",
       "Bebidas e Fumo                                              1\n",
       "Bolsas de Valores/Mercadorias e Futuros                     1\n",
       "Saneamento, Serv. Água e Gás                                1\n",
       "Embalagens                                                  1\n",
       "Emp. Adm. Part. - Alimentos                                 1\n",
       "Máquinas, Equipamentos, Veículos e Peças                    1\n",
       "Emp. Adm. Part. - Máqs., Equip., Veíc. e Peças              1\n",
       "Hospedagem e Turismo                                        1\n",
       "Gráficas e Editoras                                         1\n",
       "Farmacêutico e Higiene                                      1\n",
       "Extração Mineral                                            1\n",
       "Emp. Adm. Part. - Extração Mineral                          1\n",
       "Emp. Adm. Part. - Telecomunicações                          1\n",
       "Agricultura (Açúcar, Álcool e Cana)                         1\n",
       "Name: TICKER, dtype: int64"
      ]
     },
     "execution_count": 138,
     "metadata": {},
     "output_type": "execute_result"
    }
   ],
   "source": [
    "df_ibovespa.groupby('SETOR')['TICKER'].count().sort_values(ascending=False)"
   ]
  },
  {
   "cell_type": "code",
   "execution_count": 147,
   "id": "360d79cb",
   "metadata": {},
   "outputs": [
    {
     "data": {
      "text/html": [
       "<div>\n",
       "<style scoped>\n",
       "    .dataframe tbody tr th:only-of-type {\n",
       "        vertical-align: middle;\n",
       "    }\n",
       "\n",
       "    .dataframe tbody tr th {\n",
       "        vertical-align: top;\n",
       "    }\n",
       "\n",
       "    .dataframe thead th {\n",
       "        text-align: right;\n",
       "    }\n",
       "</style>\n",
       "<table border=\"1\" class=\"dataframe\">\n",
       "  <thead>\n",
       "    <tr style=\"text-align: right;\">\n",
       "      <th></th>\n",
       "      <th>CNPJ</th>\n",
       "      <th>NOME_EMPRESA</th>\n",
       "      <th>SETOR</th>\n",
       "      <th>TICKER</th>\n",
       "      <th>NOME</th>\n",
       "    </tr>\n",
       "  </thead>\n",
       "  <tbody>\n",
       "    <tr>\n",
       "      <th>14</th>\n",
       "      <td>07.636.657/0001-99</td>\n",
       "      <td>AÃO VERDE DO BRASIL S.A</td>\n",
       "      <td>Metalurgia e Siderurgia</td>\n",
       "      <td>BBAS3</td>\n",
       "      <td>BRASIL</td>\n",
       "    </tr>\n",
       "    <tr>\n",
       "      <th>41</th>\n",
       "      <td>33.611.500/0001-19</td>\n",
       "      <td>GERDAU S.A.</td>\n",
       "      <td>Metalurgia e Siderurgia</td>\n",
       "      <td>GGBR4</td>\n",
       "      <td>GERDAU</td>\n",
       "    </tr>\n",
       "    <tr>\n",
       "      <th>42</th>\n",
       "      <td>33.611.500/0001-19</td>\n",
       "      <td>GERDAU S.A.</td>\n",
       "      <td>Metalurgia e Siderurgia</td>\n",
       "      <td>GOAU4</td>\n",
       "      <td>GERDAU MET</td>\n",
       "    </tr>\n",
       "    <tr>\n",
       "      <th>77</th>\n",
       "      <td>20.141.321/0001-13</td>\n",
       "      <td>SIDERURGICA PAINS</td>\n",
       "      <td>Metalurgia e Siderurgia</td>\n",
       "      <td>CSNA3</td>\n",
       "      <td>SID NACIONAL</td>\n",
       "    </tr>\n",
       "    <tr>\n",
       "      <th>85</th>\n",
       "      <td>17.157.850/0001-09</td>\n",
       "      <td>USIMINAS</td>\n",
       "      <td>Metalurgia e Siderurgia</td>\n",
       "      <td>USIM5</td>\n",
       "      <td>USIMINAS</td>\n",
       "    </tr>\n",
       "  </tbody>\n",
       "</table>\n",
       "</div>"
      ],
      "text/plain": [
       "                  CNPJ             NOME_EMPRESA                    SETOR  \\\n",
       "14  07.636.657/0001-99  AÃO VERDE DO BRASIL S.A  Metalurgia e Siderurgia   \n",
       "41  33.611.500/0001-19              GERDAU S.A.  Metalurgia e Siderurgia   \n",
       "42  33.611.500/0001-19              GERDAU S.A.  Metalurgia e Siderurgia   \n",
       "77  20.141.321/0001-13        SIDERURGICA PAINS  Metalurgia e Siderurgia   \n",
       "85  17.157.850/0001-09                 USIMINAS  Metalurgia e Siderurgia   \n",
       "\n",
       "   TICKER          NOME  \n",
       "14  BBAS3        BRASIL  \n",
       "41  GGBR4        GERDAU  \n",
       "42  GOAU4    GERDAU MET  \n",
       "77  CSNA3  SID NACIONAL  \n",
       "85  USIM5      USIMINAS  "
      ]
     },
     "execution_count": 147,
     "metadata": {},
     "output_type": "execute_result"
    }
   ],
   "source": [
    "df_ibovespa[df_ibovespa['SETOR'] == 'Metalurgia e Siderurgia']"
   ]
  },
  {
   "cell_type": "code",
   "execution_count": 148,
   "id": "b66bb71d",
   "metadata": {},
   "outputs": [],
   "source": [
    "df_ibovespa.to_csv('dados/b3/df_ibovespa.csv')"
   ]
  },
  {
   "cell_type": "code",
   "execution_count": null,
   "id": "663a1dd7",
   "metadata": {},
   "outputs": [],
   "source": []
  }
 ],
 "metadata": {
  "kernelspec": {
   "display_name": "Python 3 (ipykernel)",
   "language": "python",
   "name": "python3"
  },
  "language_info": {
   "codemirror_mode": {
    "name": "ipython",
    "version": 3
   },
   "file_extension": ".py",
   "mimetype": "text/x-python",
   "name": "python",
   "nbconvert_exporter": "python",
   "pygments_lexer": "ipython3",
   "version": "3.7.11"
  }
 },
 "nbformat": 4,
 "nbformat_minor": 5
}
