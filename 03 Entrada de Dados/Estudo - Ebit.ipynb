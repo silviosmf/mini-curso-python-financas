{
 "cells": [
  {
   "cell_type": "markdown",
   "id": "39dbabe6",
   "metadata": {},
   "source": [
    "# Análise do Ebit nas empresas da B3"
   ]
  },
  {
   "cell_type": "markdown",
   "id": "4cd460ea",
   "metadata": {},
   "source": [
    "<b>Ebit</b> - Lucro antes dos juros e tributos (LAJIR)\n",
    "\n",
    "Demonstra o <b><i>lucro operacional</i></b> da empresa, excluindo as despesas ou receitas financeiras para chegar ao valor aproximado do lucro operacional da empresa em seus resultados operacionais\n",
    "\n",
    "Considerado indicador de desempenho e mede a performance operacional da empresa\n",
    "\n",
    "<b> Fórmula </b>\n",
    "\n",
    "(+) Resultado Líquido (Lucro/Prejuízo Consolidado do Período)\n",
    "\n",
    "(+) Encargos Financeiros de Financimento (Resultado Financeiro)\n",
    "\n",
    "(+) Impostos sobre os lucros (Imposto de Renda e Contribuição Social sobre o Lucro)\n",
    "\n",
    "(=) Ebit"
   ]
  },
  {
   "cell_type": "code",
   "execution_count": 1,
   "id": "0ae52c6d",
   "metadata": {},
   "outputs": [],
   "source": [
    "import pandas as pd\n",
    "import seaborn as sns\n",
    "import matplotlib.pyplot as plt\n",
    "import pandas_datareader as web\n",
    "import yfinance as yfinance\n",
    "import warnings\n",
    "warnings.filterwarnings('ignore')"
   ]
  },
  {
   "cell_type": "markdown",
   "id": "58f0e8ee",
   "metadata": {},
   "source": [
    "Definir caminho para salvar arquivos"
   ]
  },
  {
   "cell_type": "code",
   "execution_count": 2,
   "id": "b1bde0bd",
   "metadata": {},
   "outputs": [],
   "source": [
    "caminho_arquivos = '../dados/cvm'"
   ]
  },
  {
   "cell_type": "code",
   "execution_count": 3,
   "id": "1636b865",
   "metadata": {},
   "outputs": [],
   "source": [
    "# Carregar DRE\n",
    "dre = pd.read_csv(f'{caminho_arquivos}/DRE.csv', sep=';', encoding='ISO-8859-1', decimal=',')"
   ]
  },
  {
   "cell_type": "code",
   "execution_count": 4,
   "id": "8d8b2bb9",
   "metadata": {},
   "outputs": [],
   "source": [
    "cnpj = '47.960.950/0001-21'\n",
    "empresa = 'MGLU3'\n",
    "dre_empresa = dre[dre['CNPJ_CIA'] == cnpj]"
   ]
  },
  {
   "cell_type": "code",
   "execution_count": null,
   "id": "997e34b0",
   "metadata": {},
   "outputs": [],
   "source": [
    "df_ebit = dre_empresa[(dre_empresa['CD_CONTA'] == '3.05')]\n",
    "\n",
    "df_ebit['TRIMESTRE'] = 0\n",
    "df_ebit.loc[(pd.to_datetime(df_ebit['DT_INI_EXERC']).dt.month == 1) & \n",
    "    (pd.to_datetime(df_ebit['DT_FIM_EXERC']).dt.month == 3), 'TRIMESTRE'] = 1\n",
    "df_ebit.loc[(pd.to_datetime(df_ebit['DT_INI_EXERC']).dt.month == 1) & \n",
    "    (pd.to_datetime(df_ebit['DT_FIM_EXERC']).dt.month == 6), 'TRIMESTRE'] = 2\n",
    "df_ebit.loc[(pd.to_datetime(df_ebit['DT_INI_EXERC']).dt.month == 1) & \n",
    "    (pd.to_datetime(df_ebit['DT_FIM_EXERC']).dt.month == 9), 'TRIMESTRE'] = 3\n",
    "df_ebit.loc[(pd.to_datetime(df_ebit['DT_INI_EXERC']).dt.month == 1) & \n",
    "    (pd.to_datetime(df_ebit['DT_FIM_EXERC']).dt.month == 12), 'TRIMESTRE'] = 4\n",
    "\n",
    "df_ebit = df_ebit[df_ebit['TRIMESTRE'] != 0]\n",
    "df_ebit['DT_FIM_EXERC'] = pd.to_datetime(df_ebit['DT_FIM_EXERC']) "
   ]
  },
  {
   "cell_type": "code",
   "execution_count": null,
   "id": "020ed3fe",
   "metadata": {},
   "outputs": [],
   "source": [
    "df_ebit = df_ebit[['DT_FIM_EXERC','VL_CONTA']]\n",
    "df_ebit.columns = ['Date','Ebit']\n",
    "df_ebit.set_index('Date', inplace=True)"
   ]
  },
  {
   "cell_type": "code",
   "execution_count": null,
   "id": "c87698bd",
   "metadata": {},
   "outputs": [],
   "source": [
    "df_tmp = df_ebit[df_ebit.index.year > 2011]\n",
    "df_tmp['ANO'] = df_tmp.index.year\n",
    "f, ax = plt.subplots(figsize=(15, 7))\n",
    "sns.barplot(x=\"ANO\",y=\"Ebit\", palette=\"ch:.25\", data=df_tmp)"
   ]
  },
  {
   "cell_type": "code",
   "execution_count": null,
   "id": "0d4fc7b3",
   "metadata": {},
   "outputs": [],
   "source": [
    "df_cotacao = pd.DataFrame(web.get_data_yahoo(f\"{empresa}.SA\", start=\"2010-01-01\", end=\"2021-12-30\")[\"Close\"])\n",
    "df_cotacao.columns = ['Preco']"
   ]
  },
  {
   "cell_type": "code",
   "execution_count": null,
   "id": "06ba4c77",
   "metadata": {},
   "outputs": [],
   "source": [
    "df_empresa = pd.concat([df_ebit,df_cotacao], axis=1)\n",
    "df_empresa['Preco'].fillna(method='ffill', inplace=True)\n",
    "df_empresa.dropna(inplace=True)"
   ]
  },
  {
   "cell_type": "code",
   "execution_count": null,
   "id": "b06291ab",
   "metadata": {},
   "outputs": [],
   "source": [
    "f, ax = plt.subplots(figsize=(15, 7))\n",
    "sns.lineplot(palette=\"ch:.25\", data=df_empresa['Ebit'])"
   ]
  },
  {
   "cell_type": "code",
   "execution_count": null,
   "id": "1baa2fec",
   "metadata": {},
   "outputs": [],
   "source": [
    "f, ax = plt.subplots(figsize=(15, 7))\n",
    "sns.lineplot(palette=\"ch:.25\", data=df_empresa['Preco'])"
   ]
  },
  {
   "cell_type": "code",
   "execution_count": null,
   "id": "3f952f9a",
   "metadata": {},
   "outputs": [],
   "source": [
    "df_empresa['Var_Ebit'] = ((df_empresa['Ebit']/df_empresa['Ebit'].shift(1)) - 1)*100\n",
    "df_empresa['Var_Preco'] = ((df_empresa['Preco']/df_empresa['Preco'].shift(1)) - 1)*100"
   ]
  },
  {
   "cell_type": "code",
   "execution_count": null,
   "id": "0e6f778c",
   "metadata": {},
   "outputs": [],
   "source": [
    "df_empresa"
   ]
  },
  {
   "cell_type": "code",
   "execution_count": null,
   "id": "b6a1e460",
   "metadata": {},
   "outputs": [],
   "source": [
    "f, ax = plt.subplots(figsize=(15, 7))\n",
    "sns.lineplot(palette=\"ch:.25\", data=df_empresa[['Var_Ebit','Var_Preco']])"
   ]
  },
  {
   "cell_type": "code",
   "execution_count": null,
   "id": "ffa68bd6",
   "metadata": {},
   "outputs": [],
   "source": [
    "df_empresa.corr()"
   ]
  },
  {
   "cell_type": "code",
   "execution_count": null,
   "id": "f69881ca",
   "metadata": {},
   "outputs": [],
   "source": [
    "df_empresa['Preco_anterior'] = df_empresa['Preco'].shift(1)\n",
    "df_empresa['Ebit_anterior'] = df_empresa['Ebit'].shift(1)"
   ]
  },
  {
   "cell_type": "code",
   "execution_count": null,
   "id": "aa212224",
   "metadata": {},
   "outputs": [],
   "source": [
    "df_empresa"
   ]
  },
  {
   "cell_type": "code",
   "execution_count": null,
   "id": "2b8bad58",
   "metadata": {},
   "outputs": [],
   "source": []
  }
 ],
 "metadata": {
  "kernelspec": {
   "display_name": "Python 3 (ipykernel)",
   "language": "python",
   "name": "python3"
  },
  "language_info": {
   "codemirror_mode": {
    "name": "ipython",
    "version": 3
   },
   "file_extension": ".py",
   "mimetype": "text/x-python",
   "name": "python",
   "nbconvert_exporter": "python",
   "pygments_lexer": "ipython3",
   "version": "3.7.11"
  }
 },
 "nbformat": 4,
 "nbformat_minor": 5
}
