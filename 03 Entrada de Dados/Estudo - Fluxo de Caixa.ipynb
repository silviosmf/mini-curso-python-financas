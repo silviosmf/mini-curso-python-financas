{
 "cells": [
  {
   "cell_type": "markdown",
   "metadata": {},
   "source": [
    "# Análise do Fluxo de Caixa"
   ]
  },
  {
   "cell_type": "code",
   "execution_count": 1,
   "metadata": {},
   "outputs": [],
   "source": [
    "import pandas as pd\n",
    "import seaborn as sns\n",
    "import matplotlib.pyplot as plt\n",
    "import warnings\n",
    "warnings.filterwarnings('ignore')"
   ]
  },
  {
   "cell_type": "code",
   "execution_count": 2,
   "metadata": {},
   "outputs": [],
   "source": [
    "    caminho_arquivos = '../dados/cvm'\n",
    "    # Carregar DFC\n",
    "    dfc = pd.read_csv(f'{caminho_arquivos}/DFC_MI.csv', sep=';', encoding='ISO-8859-1', decimal=',')\n"
   ]
  },
  {
   "cell_type": "code",
   "execution_count": 9,
   "metadata": {},
   "outputs": [
    {
     "data": {
      "text/html": [
       "<div>\n",
       "<style scoped>\n",
       "    .dataframe tbody tr th:only-of-type {\n",
       "        vertical-align: middle;\n",
       "    }\n",
       "\n",
       "    .dataframe tbody tr th {\n",
       "        vertical-align: top;\n",
       "    }\n",
       "\n",
       "    .dataframe thead th {\n",
       "        text-align: right;\n",
       "    }\n",
       "</style>\n",
       "<table border=\"1\" class=\"dataframe\">\n",
       "  <thead>\n",
       "    <tr style=\"text-align: right;\">\n",
       "      <th></th>\n",
       "      <th>CNPJ_CIA</th>\n",
       "      <th>DT_REFER</th>\n",
       "      <th>VERSAO</th>\n",
       "      <th>DENOM_CIA</th>\n",
       "      <th>CD_CVM</th>\n",
       "      <th>GRUPO_DFP</th>\n",
       "      <th>MOEDA</th>\n",
       "      <th>ESCALA_MOEDA</th>\n",
       "      <th>ORDEM_EXERC</th>\n",
       "      <th>DT_INI_EXERC</th>\n",
       "      <th>DT_FIM_EXERC</th>\n",
       "      <th>CD_CONTA</th>\n",
       "      <th>DS_CONTA</th>\n",
       "      <th>VL_CONTA</th>\n",
       "      <th>ST_CONTA_FIXA</th>\n",
       "    </tr>\n",
       "  </thead>\n",
       "  <tbody>\n",
       "    <tr>\n",
       "      <th>587167</th>\n",
       "      <td>33.041.260/0652-90</td>\n",
       "      <td>2020-12-31</td>\n",
       "      <td>1</td>\n",
       "      <td>VIA S.A.</td>\n",
       "      <td>6505</td>\n",
       "      <td>DF Consolidado - Demonstração do Fluxo de Caix...</td>\n",
       "      <td>REAL</td>\n",
       "      <td>MIL</td>\n",
       "      <td>ÚLTIMO</td>\n",
       "      <td>2020-01-01</td>\n",
       "      <td>2020-12-31</td>\n",
       "      <td>6.01</td>\n",
       "      <td>Caixa Líquido Atividades Operacionais</td>\n",
       "      <td>-4221000.0</td>\n",
       "      <td>S</td>\n",
       "    </tr>\n",
       "    <tr>\n",
       "      <th>587206</th>\n",
       "      <td>33.041.260/0652-90</td>\n",
       "      <td>2020-12-31</td>\n",
       "      <td>1</td>\n",
       "      <td>VIA S.A.</td>\n",
       "      <td>6505</td>\n",
       "      <td>DF Consolidado - Demonstração do Fluxo de Caix...</td>\n",
       "      <td>REAL</td>\n",
       "      <td>MIL</td>\n",
       "      <td>ÚLTIMO</td>\n",
       "      <td>2020-01-01</td>\n",
       "      <td>2020-12-31</td>\n",
       "      <td>6.02</td>\n",
       "      <td>Caixa Líquido Atividades de Investimento</td>\n",
       "      <td>-444000.0</td>\n",
       "      <td>S</td>\n",
       "    </tr>\n",
       "    <tr>\n",
       "      <th>587214</th>\n",
       "      <td>33.041.260/0652-90</td>\n",
       "      <td>2020-12-31</td>\n",
       "      <td>1</td>\n",
       "      <td>VIA S.A.</td>\n",
       "      <td>6505</td>\n",
       "      <td>DF Consolidado - Demonstração do Fluxo de Caix...</td>\n",
       "      <td>REAL</td>\n",
       "      <td>MIL</td>\n",
       "      <td>ÚLTIMO</td>\n",
       "      <td>2020-01-01</td>\n",
       "      <td>2020-12-31</td>\n",
       "      <td>6.03</td>\n",
       "      <td>Caixa Líquido Atividades de Financiamento</td>\n",
       "      <td>6285000.0</td>\n",
       "      <td>S</td>\n",
       "    </tr>\n",
       "  </tbody>\n",
       "</table>\n",
       "</div>"
      ],
      "text/plain": [
       "                  CNPJ_CIA    DT_REFER  VERSAO DENOM_CIA  CD_CVM  \\\n",
       "587167  33.041.260/0652-90  2020-12-31       1  VIA S.A.    6505   \n",
       "587206  33.041.260/0652-90  2020-12-31       1  VIA S.A.    6505   \n",
       "587214  33.041.260/0652-90  2020-12-31       1  VIA S.A.    6505   \n",
       "\n",
       "                                                GRUPO_DFP MOEDA ESCALA_MOEDA  \\\n",
       "587167  DF Consolidado - Demonstração do Fluxo de Caix...  REAL          MIL   \n",
       "587206  DF Consolidado - Demonstração do Fluxo de Caix...  REAL          MIL   \n",
       "587214  DF Consolidado - Demonstração do Fluxo de Caix...  REAL          MIL   \n",
       "\n",
       "       ORDEM_EXERC DT_INI_EXERC DT_FIM_EXERC CD_CONTA  \\\n",
       "587167      ÚLTIMO   2020-01-01   2020-12-31     6.01   \n",
       "587206      ÚLTIMO   2020-01-01   2020-12-31     6.02   \n",
       "587214      ÚLTIMO   2020-01-01   2020-12-31     6.03   \n",
       "\n",
       "                                         DS_CONTA   VL_CONTA ST_CONTA_FIXA  \n",
       "587167      Caixa Líquido Atividades Operacionais -4221000.0             S  \n",
       "587206   Caixa Líquido Atividades de Investimento  -444000.0             S  \n",
       "587214  Caixa Líquido Atividades de Financiamento  6285000.0             S  "
      ]
     },
     "execution_count": 9,
     "metadata": {},
     "output_type": "execute_result"
    }
   ],
   "source": [
    "dfc_op_invest_fin =  dfc[(dfc['CNPJ_CIA'] == '33.041.260/0652-90') & \n",
    "            (pd.to_datetime(dfc['DT_REFER']).dt.month == 12) &\n",
    "            (pd.to_datetime(dfc['DT_REFER']).dt.year == 2020) &\n",
    "            ((dfc['CD_CONTA'] == '6.01') |\n",
    "            (dfc['CD_CONTA'] == '6.02') |\n",
    "            (dfc['CD_CONTA'] == '6.03'))]\n",
    "dfc_op_invest_fin"
   ]
  },
  {
   "cell_type": "code",
   "execution_count": 83,
   "metadata": {},
   "outputs": [],
   "source": [
    "list_fc = []\n",
    "\n",
    "for ano in range(2011,2021):\n",
    "    for mes in range(3,15,3):\n",
    "        dfc_resultado =  dfc[(dfc['CNPJ_CIA'] == '33.041.260/0652-90') & \n",
    "            (pd.to_datetime(dfc['DT_REFER']).dt.month == mes) &\n",
    "            (pd.to_datetime(dfc['DT_REFER']).dt.year == ano) &\n",
    "            (dfc['CD_CONTA'].str.contains('6.05.0'))]\n",
    "        # display(dfc_resultado.iloc[0]['DT_REFER'])\n",
    "        list_fc.append({'data':dfc_resultado.iloc[0]['DT_REFER'],\n",
    "                    'fluxo_caixa':dfc_resultado.iloc[1]['VL_CONTA'] - dfc_resultado.iloc[0]['VL_CONTA']})\n",
    "\n",
    "# Criar DataFrame com Saldo do Fluxo de Caixa por Semestre para a empresas selecionada\n",
    "df_fc = pd.DataFrame(list_fc)"
   ]
  },
  {
   "cell_type": "code",
   "execution_count": 82,
   "metadata": {},
   "outputs": [
    {
     "data": {
      "text/plain": [
       "<AxesSubplot:xlabel='data', ylabel='fluxo_caixa'>"
      ]
     },
     "execution_count": 82,
     "metadata": {},
     "output_type": "execute_result"
    },
    {
     "data": {
      "image/png": "[encoded data removed]",
      "text/plain": [
       "<Figure size 1080x504 with 1 Axes>"
      ]
     },
     "metadata": {
      "needs_background": "light"
     },
     "output_type": "display_data"
    }
   ],
   "source": [
    "df_fc['data'] = pd.to_datetime(df_fc['data'])\n",
    "# df_fc['ano'] = df_fc['data'].dt.year\n",
    "f, ax = plt.subplots(figsize=(15, 7))\n",
    "sns.barplot(x=\"data\",y=\"fluxo_caixa\", palette=\"ch:.25\", data=df_fc)"
   ]
  },
  {
   "cell_type": "code",
   "execution_count": 84,
   "metadata": {},
   "outputs": [
    {
     "data": {
      "text/plain": [
       "<AxesSubplot:xlabel='data', ylabel='fluxo_caixa'>"
      ]
     },
     "execution_count": 84,
     "metadata": {},
     "output_type": "execute_result"
    },
    {
     "data": {
      "image/png": "[encoded data removed]",
      "text/plain": [
       "<Figure size 1080x504 with 1 Axes>"
      ]
     },
     "metadata": {
      "needs_background": "light"
     },
     "output_type": "display_data"
    }
   ],
   "source": [
    "df_fc['data'] = pd.to_datetime(df_fc['data'])\n",
    "# df_fc['ano'] = df_fc['data'].dt.year\n",
    "f, ax = plt.subplots(figsize=(15, 7))\n",
    "sns.barplot(x=\"data\",y=\"fluxo_caixa\", palette=\"ch:.25\", data=df_fc)"
   ]
  },
  {
   "cell_type": "code",
   "execution_count": null,
   "metadata": {},
   "outputs": [],
   "source": [
    "dfc_op_invest_fin =  dfc[(dfc['CNPJ_CIA'] == '33.041.260/0652-90') & \n",
    "            (pd.to_datetime(dfc['DT_REFER']).dt.month == 12) &\n",
    "            (pd.to_datetime(dfc['DT_REFER']).dt.year == 2020) &\n",
    "            ((dfc['CD_CONTA'] == '6.01') |\n",
    "            (dfc['CD_CONTA'] == '6.02') |\n",
    "            (dfc['CD_CONTA'] == '6.03'))]\n",
    "dfc_op_invest_fin"
   ]
  }
 ],
 "metadata": {
  "interpreter": {
   "hash": "8e1f96303ca76a033569db7ee42de56290179eb2415f482c56ad34ce2a6be184"
  },
  "kernelspec": {
   "display_name": "Python 3.7.11 64-bit ('Python': conda)",
   "language": "python",
   "name": "python3"
  },
  "language_info": {
   "codemirror_mode": {
    "name": "ipython",
    "version": 3
   },
   "file_extension": ".py",
   "mimetype": "text/x-python",
   "name": "python",
   "nbconvert_exporter": "python",
   "pygments_lexer": "ipython3",
   "version": "3.7.11"
  },
  "orig_nbformat": 4
 },
 "nbformat": 4,
 "nbformat_minor": 2
}
