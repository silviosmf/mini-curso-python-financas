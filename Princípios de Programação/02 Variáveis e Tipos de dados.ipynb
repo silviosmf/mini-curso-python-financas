{
 "cells": [
  {
   "attachments": {},
   "cell_type": "markdown",
   "id": "fda4f44b",
   "metadata": {},
   "source": [
    "## Variáveis, Tipos de dados, Operadores\n"
   ]
  },
  {
   "cell_type": "markdown",
   "id": "0299d2d8",
   "metadata": {},
   "source": [
    "### Variável\n",
    "\n",
    "Variável é um espaço na memória do computador reservada para amazenar uma informação."
   ]
  },
  {
   "cell_type": "code",
   "execution_count": 6,
   "id": "6cb6d783",
   "metadata": {},
   "outputs": [
    {
     "name": "stdout",
     "output_type": "stream",
     "text": [
      "Valor atribuído\n"
     ]
    }
   ],
   "source": [
    "variavel_x = 'Valor atribuído'\n",
    "print(variavel_x)"
   ]
  },
  {
   "cell_type": "markdown",
   "id": "82da6d1a",
   "metadata": {},
   "source": [
    "### Tipos de variáveis\n",
    "\n",
    "Representa o conteúdo da variável. Podendo ser:\n",
    "\n",
    "| Tipo | Exemplo |\n",
    "| --- | --- |\n",
    "| Números | 3.14, 5, 850 |\n",
    "| String | 'nomes' |\n",
    "| Boolean | True |\n",
    "| Listas | [1, [2,'Três'], 4] |\n",
    "| Dicionários | {'chave':'valor'} |\n",
    "| Tuplas | (1,'espaço',4,'U') |"
   ]
  },
  {
   "cell_type": "code",
   "execution_count": 15,
   "id": "90bf9255",
   "metadata": {},
   "outputs": [
    {
     "data": {
      "text/plain": [
       "int"
      ]
     },
     "execution_count": 15,
     "metadata": {},
     "output_type": "execute_result"
    }
   ],
   "source": [
    "variavel_numerica = 10\n",
    "type(variavel_numerica)"
   ]
  },
  {
   "cell_type": "code",
   "execution_count": 26,
   "id": "8213f60c",
   "metadata": {},
   "outputs": [
    {
     "data": {
      "text/plain": [
       "str"
      ]
     },
     "execution_count": 26,
     "metadata": {},
     "output_type": "execute_result"
    }
   ],
   "source": [
    "variavel_string = 'determinado nome'\n",
    "type(variavel_string)"
   ]
  },
  {
   "cell_type": "code",
   "execution_count": 28,
   "id": "e6657b66",
   "metadata": {},
   "outputs": [
    {
     "data": {
      "text/plain": [
       "bool"
      ]
     },
     "execution_count": 28,
     "metadata": {},
     "output_type": "execute_result"
    }
   ],
   "source": [
    "variavel_boolean = True\n",
    "type(variavel_boolean)"
   ]
  },
  {
   "cell_type": "code",
   "execution_count": 19,
   "id": "ca45d929",
   "metadata": {},
   "outputs": [
    {
     "data": {
      "text/plain": [
       "list"
      ]
     },
     "execution_count": 19,
     "metadata": {},
     "output_type": "execute_result"
    }
   ],
   "source": [
    "variavel_lista = [1, [2,'Três'], 4]\n",
    "type(variavel_lista)"
   ]
  },
  {
   "cell_type": "code",
   "execution_count": 31,
   "id": "b6d17ecd",
   "metadata": {},
   "outputs": [
    {
     "data": {
      "text/plain": [
       "dict"
      ]
     },
     "execution_count": 31,
     "metadata": {},
     "output_type": "execute_result"
    }
   ],
   "source": [
    "variavel_dicionario = {'nome':'Carlos Henrique'}\n",
    "type(variavel_dicionario)"
   ]
  },
  {
   "cell_type": "markdown",
   "id": "f1e2f00a",
   "metadata": {},
   "source": [
    "### Operadores Relacionais\n",
    "\n",
    "Para realizamos comparações lógicas, utilizaremos operadores relacionais.\n",
    "\n",
    "| Operador | Operação | Símbolo |\n",
    "| --- | --- | --- |\n",
    "| == | igualdade | = |\n",
    "| > | maior que | > |\n",
    "| < | menor que | < |\n",
    "| >= | maior ou igual |  |\n",
    "| <= | menor ou igual |  |\n",
    "| != | diferente |  |"
   ]
  },
  {
   "cell_type": "code",
   "execution_count": 44,
   "id": "f08f2511",
   "metadata": {},
   "outputs": [
    {
     "data": {
      "text/plain": [
       "True"
      ]
     },
     "execution_count": 44,
     "metadata": {},
     "output_type": "execute_result"
    }
   ],
   "source": [
    "'nome' == 'nome'"
   ]
  },
  {
   "cell_type": "code",
   "execution_count": 45,
   "id": "2e3ab438",
   "metadata": {},
   "outputs": [
    {
     "data": {
      "text/plain": [
       "False"
      ]
     },
     "execution_count": 45,
     "metadata": {},
     "output_type": "execute_result"
    }
   ],
   "source": [
    "5 > 10"
   ]
  },
  {
   "cell_type": "markdown",
   "id": "8a474258",
   "metadata": {},
   "source": [
    "### Operadores Lógicos\n",
    "\n",
    "Para agrupar operações com lógica booleana, utilizaremos operadores lógicos.\n",
    "\n",
    "| Operador Python | Operação |\n",
    "| --- | --- |\n",
    "| not | não |\n",
    "| and | e |\n",
    "| or | ou |"
   ]
  },
  {
   "cell_type": "code",
   "execution_count": 39,
   "id": "fc768cc5",
   "metadata": {},
   "outputs": [
    {
     "data": {
      "text/plain": [
       "False"
      ]
     },
     "execution_count": 39,
     "metadata": {},
     "output_type": "execute_result"
    }
   ],
   "source": [
    "not True"
   ]
  },
  {
   "cell_type": "code",
   "execution_count": 41,
   "id": "ae7e1f0f",
   "metadata": {},
   "outputs": [
    {
     "data": {
      "text/plain": [
       "True"
      ]
     },
     "execution_count": 41,
     "metadata": {},
     "output_type": "execute_result"
    }
   ],
   "source": [
    "True or False"
   ]
  },
  {
   "cell_type": "code",
   "execution_count": 42,
   "id": "a56bd0c8",
   "metadata": {},
   "outputs": [
    {
     "data": {
      "text/plain": [
       "True"
      ]
     },
     "execution_count": 42,
     "metadata": {},
     "output_type": "execute_result"
    }
   ],
   "source": [
    "True and True"
   ]
  },
  {
   "cell_type": "markdown",
   "id": "8d40f6ab",
   "metadata": {},
   "source": [
    "### Operadores Aritméticos\n",
    "\n",
    "| Operação | Sintaxe | Função |\n",
    "| --- | --- | --- |\n",
    "| Adição | a + b | add(a, b) |\n",
    "| Concatenação | seq1 + seq2 | concat(seq1, seq2) |\n",
    "| Teste de contenção | obj in seq | contains(seq, obj) |\n",
    "| Divisão | a / b | truediv(a, b) |\n",
    "| Divisão | a // b | floordiv(a, b) |\n",
    "| E bit a bit | a & b | and_(a, b) |\n",
    "| Exclusivo bit a bit ou | a ^ b | xor(a, b) |\n",
    "| Exponenciação | a ** b | pow(a, b) |"
   ]
  },
  {
   "cell_type": "code",
   "execution_count": 46,
   "id": "1effa366",
   "metadata": {},
   "outputs": [
    {
     "data": {
      "text/plain": [
       "20"
      ]
     },
     "execution_count": 46,
     "metadata": {},
     "output_type": "execute_result"
    }
   ],
   "source": [
    "10 + 10"
   ]
  },
  {
   "cell_type": "code",
   "execution_count": 51,
   "id": "849b2c00",
   "metadata": {},
   "outputs": [
    {
     "data": {
      "text/plain": [
       "100"
      ]
     },
     "execution_count": 51,
     "metadata": {},
     "output_type": "execute_result"
    }
   ],
   "source": [
    "10 ** 2"
   ]
  }
 ],
 "metadata": {
  "kernelspec": {
   "display_name": "Python 3 (ipykernel)",
   "language": "python",
   "name": "python3"
  },
  "language_info": {
   "codemirror_mode": {
    "name": "ipython",
    "version": 3
   },
   "file_extension": ".py",
   "mimetype": "text/x-python",
   "name": "python",
   "nbconvert_exporter": "python",
   "pygments_lexer": "ipython3",
   "version": "3.9.7"
  }
 },
 "nbformat": 4,
 "nbformat_minor": 5
}
