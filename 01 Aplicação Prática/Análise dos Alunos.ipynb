{
 "cells": [
  {
   "cell_type": "code",
   "execution_count": 1,
   "id": "ec6daa9f",
   "metadata": {},
   "outputs": [],
   "source": [
    "import pandas as pd\n",
    "import matplotlib.pyplot as plt\n",
    "import seaborn as sns"
   ]
  },
  {
   "cell_type": "markdown",
   "id": "d728dcf5",
   "metadata": {},
   "source": [
    "Abrir arquivo Excel\n",
    "\n",
    "https://pandas.pydata.org/docs/reference/api/pandas.read_excel.html"
   ]
  },
  {
   "cell_type": "code",
   "execution_count": 2,
   "id": "c065515f",
   "metadata": {},
   "outputs": [],
   "source": [
    "df_alunos = pd.read_excel('dados/questionario.xlsx')"
   ]
  },
  {
   "cell_type": "markdown",
   "id": "91dc8c7d",
   "metadata": {},
   "source": [
    "Visualização do resumo dos dados"
   ]
  },
  {
   "cell_type": "code",
   "execution_count": 3,
   "id": "14eeda1d",
   "metadata": {},
   "outputs": [
    {
     "data": {
      "text/html": [
       "<div>\n",
       "<style scoped>\n",
       "    .dataframe tbody tr th:only-of-type {\n",
       "        vertical-align: middle;\n",
       "    }\n",
       "\n",
       "    .dataframe tbody tr th {\n",
       "        vertical-align: top;\n",
       "    }\n",
       "\n",
       "    .dataframe thead th {\n",
       "        text-align: right;\n",
       "    }\n",
       "</style>\n",
       "<table border=\"1\" class=\"dataframe\">\n",
       "  <thead>\n",
       "    <tr style=\"text-align: right;\">\n",
       "      <th></th>\n",
       "      <th>Carimbo de data/hora</th>\n",
       "      <th>Nome</th>\n",
       "      <th>Idade</th>\n",
       "      <th>Altura</th>\n",
       "      <th>Peso</th>\n",
       "      <th>Curso</th>\n",
       "      <th>Período</th>\n",
       "      <th>Sexo</th>\n",
       "    </tr>\n",
       "  </thead>\n",
       "  <tbody>\n",
       "    <tr>\n",
       "      <th>0</th>\n",
       "      <td>2022-01-15 17:42:24.894</td>\n",
       "      <td>Silvio Miranda</td>\n",
       "      <td>39.0</td>\n",
       "      <td>1.66</td>\n",
       "      <td>66.0</td>\n",
       "      <td>Mestrado em Ciências Contábeis</td>\n",
       "      <td>3°</td>\n",
       "      <td>Masculino</td>\n",
       "    </tr>\n",
       "    <tr>\n",
       "      <th>1</th>\n",
       "      <td>2022-01-15 17:46:48.041</td>\n",
       "      <td>Beatriz Miranda</td>\n",
       "      <td>2.0</td>\n",
       "      <td>97.00</td>\n",
       "      <td>14.0</td>\n",
       "      <td>Administração</td>\n",
       "      <td>1°</td>\n",
       "      <td>Feminino</td>\n",
       "    </tr>\n",
       "    <tr>\n",
       "      <th>2</th>\n",
       "      <td>2022-01-15 17:47:10.068</td>\n",
       "      <td>Bernardo de Agapito</td>\n",
       "      <td>8.0</td>\n",
       "      <td>122.00</td>\n",
       "      <td>22.0</td>\n",
       "      <td>Economia</td>\n",
       "      <td>7°</td>\n",
       "      <td>Masculino</td>\n",
       "    </tr>\n",
       "    <tr>\n",
       "      <th>3</th>\n",
       "      <td>2022-01-15 17:47:55.765</td>\n",
       "      <td>Alline Agapito</td>\n",
       "      <td>40.0</td>\n",
       "      <td>1.64</td>\n",
       "      <td>53.0</td>\n",
       "      <td>Mestrado em Administração</td>\n",
       "      <td>8°</td>\n",
       "      <td>Feminino</td>\n",
       "    </tr>\n",
       "    <tr>\n",
       "      <th>4</th>\n",
       "      <td>2022-01-15 17:49:01.129</td>\n",
       "      <td>Krislâne Maria Pereira Mesquita</td>\n",
       "      <td>29.0</td>\n",
       "      <td>1.70</td>\n",
       "      <td>58.0</td>\n",
       "      <td>Mestrado em Ciências Contábeis</td>\n",
       "      <td>3°</td>\n",
       "      <td>Feminino</td>\n",
       "    </tr>\n",
       "  </tbody>\n",
       "</table>\n",
       "</div>"
      ],
      "text/plain": [
       "     Carimbo de data/hora                             Nome  Idade  Altura  \\\n",
       "0 2022-01-15 17:42:24.894                   Silvio Miranda   39.0    1.66   \n",
       "1 2022-01-15 17:46:48.041                  Beatriz Miranda    2.0   97.00   \n",
       "2 2022-01-15 17:47:10.068              Bernardo de Agapito    8.0  122.00   \n",
       "3 2022-01-15 17:47:55.765                   Alline Agapito   40.0    1.64   \n",
       "4 2022-01-15 17:49:01.129  Krislâne Maria Pereira Mesquita   29.0    1.70   \n",
       "\n",
       "   Peso                           Curso Período       Sexo  \n",
       "0  66.0  Mestrado em Ciências Contábeis      3°  Masculino  \n",
       "1  14.0                   Administração      1°   Feminino  \n",
       "2  22.0                        Economia      7°  Masculino  \n",
       "3  53.0       Mestrado em Administração      8°   Feminino  \n",
       "4  58.0  Mestrado em Ciências Contábeis      3°   Feminino  "
      ]
     },
     "execution_count": 3,
     "metadata": {},
     "output_type": "execute_result"
    }
   ],
   "source": [
    "df_alunos.head()"
   ]
  },
  {
   "cell_type": "markdown",
   "id": "465f4411",
   "metadata": {},
   "source": [
    "Colocar a penas a primeira Letra do Nome como maiúscula\n",
    "\n",
    "https://pandas.pydata.org/docs/reference/api/pandas.Series.str.capitalize.html"
   ]
  },
  {
   "cell_type": "code",
   "execution_count": 4,
   "id": "a29c1620",
   "metadata": {},
   "outputs": [],
   "source": [
    "df_alunos['Nome'] = df_alunos['Nome'].str.capitalize()"
   ]
  },
  {
   "cell_type": "markdown",
   "id": "33aadb0c",
   "metadata": {},
   "source": [
    "Padronizar a coluna Altura"
   ]
  },
  {
   "cell_type": "code",
   "execution_count": 5,
   "id": "e7dea24f",
   "metadata": {},
   "outputs": [],
   "source": [
    "df_alunos.loc[df_alunos['Altura'] > 3, 'Altura'] = df_alunos['Altura']/100"
   ]
  },
  {
   "cell_type": "code",
   "execution_count": 6,
   "id": "b9b15774",
   "metadata": {},
   "outputs": [
    {
     "data": {
      "text/html": [
       "<div>\n",
       "<style scoped>\n",
       "    .dataframe tbody tr th:only-of-type {\n",
       "        vertical-align: middle;\n",
       "    }\n",
       "\n",
       "    .dataframe tbody tr th {\n",
       "        vertical-align: top;\n",
       "    }\n",
       "\n",
       "    .dataframe thead th {\n",
       "        text-align: right;\n",
       "    }\n",
       "</style>\n",
       "<table border=\"1\" class=\"dataframe\">\n",
       "  <thead>\n",
       "    <tr style=\"text-align: right;\">\n",
       "      <th></th>\n",
       "      <th>Carimbo de data/hora</th>\n",
       "      <th>Nome</th>\n",
       "      <th>Idade</th>\n",
       "      <th>Altura</th>\n",
       "      <th>Peso</th>\n",
       "      <th>Curso</th>\n",
       "      <th>Período</th>\n",
       "      <th>Sexo</th>\n",
       "    </tr>\n",
       "  </thead>\n",
       "  <tbody>\n",
       "    <tr>\n",
       "      <th>0</th>\n",
       "      <td>2022-01-15 17:42:24.894</td>\n",
       "      <td>Silvio miranda</td>\n",
       "      <td>39.0</td>\n",
       "      <td>1.66</td>\n",
       "      <td>66.0</td>\n",
       "      <td>Mestrado em Ciências Contábeis</td>\n",
       "      <td>3°</td>\n",
       "      <td>Masculino</td>\n",
       "    </tr>\n",
       "    <tr>\n",
       "      <th>1</th>\n",
       "      <td>2022-01-15 17:46:48.041</td>\n",
       "      <td>Beatriz miranda</td>\n",
       "      <td>2.0</td>\n",
       "      <td>0.97</td>\n",
       "      <td>14.0</td>\n",
       "      <td>Administração</td>\n",
       "      <td>1°</td>\n",
       "      <td>Feminino</td>\n",
       "    </tr>\n",
       "    <tr>\n",
       "      <th>2</th>\n",
       "      <td>2022-01-15 17:47:10.068</td>\n",
       "      <td>Bernardo de agapito</td>\n",
       "      <td>8.0</td>\n",
       "      <td>1.22</td>\n",
       "      <td>22.0</td>\n",
       "      <td>Economia</td>\n",
       "      <td>7°</td>\n",
       "      <td>Masculino</td>\n",
       "    </tr>\n",
       "    <tr>\n",
       "      <th>3</th>\n",
       "      <td>2022-01-15 17:47:55.765</td>\n",
       "      <td>Alline agapito</td>\n",
       "      <td>40.0</td>\n",
       "      <td>1.64</td>\n",
       "      <td>53.0</td>\n",
       "      <td>Mestrado em Administração</td>\n",
       "      <td>8°</td>\n",
       "      <td>Feminino</td>\n",
       "    </tr>\n",
       "    <tr>\n",
       "      <th>4</th>\n",
       "      <td>2022-01-15 17:49:01.129</td>\n",
       "      <td>Krislâne maria pereira mesquita</td>\n",
       "      <td>29.0</td>\n",
       "      <td>1.70</td>\n",
       "      <td>58.0</td>\n",
       "      <td>Mestrado em Ciências Contábeis</td>\n",
       "      <td>3°</td>\n",
       "      <td>Feminino</td>\n",
       "    </tr>\n",
       "  </tbody>\n",
       "</table>\n",
       "</div>"
      ],
      "text/plain": [
       "     Carimbo de data/hora                             Nome  Idade  Altura  \\\n",
       "0 2022-01-15 17:42:24.894                   Silvio miranda   39.0    1.66   \n",
       "1 2022-01-15 17:46:48.041                  Beatriz miranda    2.0    0.97   \n",
       "2 2022-01-15 17:47:10.068              Bernardo de agapito    8.0    1.22   \n",
       "3 2022-01-15 17:47:55.765                   Alline agapito   40.0    1.64   \n",
       "4 2022-01-15 17:49:01.129  Krislâne maria pereira mesquita   29.0    1.70   \n",
       "\n",
       "   Peso                           Curso Período       Sexo  \n",
       "0  66.0  Mestrado em Ciências Contábeis      3°  Masculino  \n",
       "1  14.0                   Administração      1°   Feminino  \n",
       "2  22.0                        Economia      7°  Masculino  \n",
       "3  53.0       Mestrado em Administração      8°   Feminino  \n",
       "4  58.0  Mestrado em Ciências Contábeis      3°   Feminino  "
      ]
     },
     "execution_count": 6,
     "metadata": {},
     "output_type": "execute_result"
    }
   ],
   "source": [
    "df_alunos.head()"
   ]
  },
  {
   "cell_type": "markdown",
   "id": "f6ced3c2",
   "metadata": {},
   "source": [
    "Cálculo do IMC\n",
    "\n",
    "Fórmula\n",
    "IMC = peso / (altura x altura)\n",
    "\n"
   ]
  },
  {
   "cell_type": "code",
   "execution_count": 7,
   "id": "0c4c27c0",
   "metadata": {},
   "outputs": [],
   "source": [
    "df_alunos['IMC'] = df_alunos['Peso'] / (df_alunos['Altura'] * df_alunos['Altura'])"
   ]
  },
  {
   "cell_type": "code",
   "execution_count": 8,
   "id": "a1eaf178",
   "metadata": {},
   "outputs": [],
   "source": [
    "df_alunos['IMC'] = df_alunos['IMC'].round(2)"
   ]
  },
  {
   "cell_type": "code",
   "execution_count": 9,
   "id": "7f1267a6",
   "metadata": {},
   "outputs": [
    {
     "data": {
      "text/html": [
       "<div>\n",
       "<style scoped>\n",
       "    .dataframe tbody tr th:only-of-type {\n",
       "        vertical-align: middle;\n",
       "    }\n",
       "\n",
       "    .dataframe tbody tr th {\n",
       "        vertical-align: top;\n",
       "    }\n",
       "\n",
       "    .dataframe thead th {\n",
       "        text-align: right;\n",
       "    }\n",
       "</style>\n",
       "<table border=\"1\" class=\"dataframe\">\n",
       "  <thead>\n",
       "    <tr style=\"text-align: right;\">\n",
       "      <th></th>\n",
       "      <th>Carimbo de data/hora</th>\n",
       "      <th>Nome</th>\n",
       "      <th>Idade</th>\n",
       "      <th>Altura</th>\n",
       "      <th>Peso</th>\n",
       "      <th>Curso</th>\n",
       "      <th>Período</th>\n",
       "      <th>Sexo</th>\n",
       "      <th>IMC</th>\n",
       "    </tr>\n",
       "  </thead>\n",
       "  <tbody>\n",
       "    <tr>\n",
       "      <th>0</th>\n",
       "      <td>2022-01-15 17:42:24.894</td>\n",
       "      <td>Silvio miranda</td>\n",
       "      <td>39.0</td>\n",
       "      <td>1.66</td>\n",
       "      <td>66.0</td>\n",
       "      <td>Mestrado em Ciências Contábeis</td>\n",
       "      <td>3°</td>\n",
       "      <td>Masculino</td>\n",
       "      <td>23.95</td>\n",
       "    </tr>\n",
       "    <tr>\n",
       "      <th>1</th>\n",
       "      <td>2022-01-15 17:46:48.041</td>\n",
       "      <td>Beatriz miranda</td>\n",
       "      <td>2.0</td>\n",
       "      <td>0.97</td>\n",
       "      <td>14.0</td>\n",
       "      <td>Administração</td>\n",
       "      <td>1°</td>\n",
       "      <td>Feminino</td>\n",
       "      <td>14.88</td>\n",
       "    </tr>\n",
       "    <tr>\n",
       "      <th>2</th>\n",
       "      <td>2022-01-15 17:47:10.068</td>\n",
       "      <td>Bernardo de agapito</td>\n",
       "      <td>8.0</td>\n",
       "      <td>1.22</td>\n",
       "      <td>22.0</td>\n",
       "      <td>Economia</td>\n",
       "      <td>7°</td>\n",
       "      <td>Masculino</td>\n",
       "      <td>14.78</td>\n",
       "    </tr>\n",
       "    <tr>\n",
       "      <th>3</th>\n",
       "      <td>2022-01-15 17:47:55.765</td>\n",
       "      <td>Alline agapito</td>\n",
       "      <td>40.0</td>\n",
       "      <td>1.64</td>\n",
       "      <td>53.0</td>\n",
       "      <td>Mestrado em Administração</td>\n",
       "      <td>8°</td>\n",
       "      <td>Feminino</td>\n",
       "      <td>19.71</td>\n",
       "    </tr>\n",
       "    <tr>\n",
       "      <th>4</th>\n",
       "      <td>2022-01-15 17:49:01.129</td>\n",
       "      <td>Krislâne maria pereira mesquita</td>\n",
       "      <td>29.0</td>\n",
       "      <td>1.70</td>\n",
       "      <td>58.0</td>\n",
       "      <td>Mestrado em Ciências Contábeis</td>\n",
       "      <td>3°</td>\n",
       "      <td>Feminino</td>\n",
       "      <td>20.07</td>\n",
       "    </tr>\n",
       "  </tbody>\n",
       "</table>\n",
       "</div>"
      ],
      "text/plain": [
       "     Carimbo de data/hora                             Nome  Idade  Altura  \\\n",
       "0 2022-01-15 17:42:24.894                   Silvio miranda   39.0    1.66   \n",
       "1 2022-01-15 17:46:48.041                  Beatriz miranda    2.0    0.97   \n",
       "2 2022-01-15 17:47:10.068              Bernardo de agapito    8.0    1.22   \n",
       "3 2022-01-15 17:47:55.765                   Alline agapito   40.0    1.64   \n",
       "4 2022-01-15 17:49:01.129  Krislâne maria pereira mesquita   29.0    1.70   \n",
       "\n",
       "   Peso                           Curso Período       Sexo    IMC  \n",
       "0  66.0  Mestrado em Ciências Contábeis      3°  Masculino  23.95  \n",
       "1  14.0                   Administração      1°   Feminino  14.88  \n",
       "2  22.0                        Economia      7°  Masculino  14.78  \n",
       "3  53.0       Mestrado em Administração      8°   Feminino  19.71  \n",
       "4  58.0  Mestrado em Ciências Contábeis      3°   Feminino  20.07  "
      ]
     },
     "execution_count": 9,
     "metadata": {},
     "output_type": "execute_result"
    }
   ],
   "source": [
    "df_alunos.head()"
   ]
  },
  {
   "cell_type": "code",
   "execution_count": 10,
   "id": "22c688a9",
   "metadata": {},
   "outputs": [
    {
     "data": {
      "text/html": [
       "<div>\n",
       "<style scoped>\n",
       "    .dataframe tbody tr th:only-of-type {\n",
       "        vertical-align: middle;\n",
       "    }\n",
       "\n",
       "    .dataframe tbody tr th {\n",
       "        vertical-align: top;\n",
       "    }\n",
       "\n",
       "    .dataframe thead th {\n",
       "        text-align: right;\n",
       "    }\n",
       "</style>\n",
       "<table border=\"1\" class=\"dataframe\">\n",
       "  <thead>\n",
       "    <tr style=\"text-align: right;\">\n",
       "      <th></th>\n",
       "      <th>Idade</th>\n",
       "      <th>Altura</th>\n",
       "      <th>Peso</th>\n",
       "      <th>IMC</th>\n",
       "    </tr>\n",
       "  </thead>\n",
       "  <tbody>\n",
       "    <tr>\n",
       "      <th>count</th>\n",
       "      <td>14.000000</td>\n",
       "      <td>14.000000</td>\n",
       "      <td>14.000000</td>\n",
       "      <td>14.000000</td>\n",
       "    </tr>\n",
       "    <tr>\n",
       "      <th>mean</th>\n",
       "      <td>27.785714</td>\n",
       "      <td>1.577857</td>\n",
       "      <td>57.571429</td>\n",
       "      <td>22.087143</td>\n",
       "    </tr>\n",
       "    <tr>\n",
       "      <th>std</th>\n",
       "      <td>10.983754</td>\n",
       "      <td>0.227433</td>\n",
       "      <td>19.998901</td>\n",
       "      <td>4.482421</td>\n",
       "    </tr>\n",
       "    <tr>\n",
       "      <th>min</th>\n",
       "      <td>2.000000</td>\n",
       "      <td>0.970000</td>\n",
       "      <td>14.000000</td>\n",
       "      <td>14.780000</td>\n",
       "    </tr>\n",
       "    <tr>\n",
       "      <th>25%</th>\n",
       "      <td>26.250000</td>\n",
       "      <td>1.577500</td>\n",
       "      <td>52.250000</td>\n",
       "      <td>19.800000</td>\n",
       "    </tr>\n",
       "    <tr>\n",
       "      <th>50%</th>\n",
       "      <td>29.000000</td>\n",
       "      <td>1.630000</td>\n",
       "      <td>57.500000</td>\n",
       "      <td>22.335000</td>\n",
       "    </tr>\n",
       "    <tr>\n",
       "      <th>75%</th>\n",
       "      <td>35.000000</td>\n",
       "      <td>1.677500</td>\n",
       "      <td>70.500000</td>\n",
       "      <td>23.845000</td>\n",
       "    </tr>\n",
       "    <tr>\n",
       "      <th>max</th>\n",
       "      <td>40.000000</td>\n",
       "      <td>1.890000</td>\n",
       "      <td>82.000000</td>\n",
       "      <td>29.210000</td>\n",
       "    </tr>\n",
       "  </tbody>\n",
       "</table>\n",
       "</div>"
      ],
      "text/plain": [
       "           Idade     Altura       Peso        IMC\n",
       "count  14.000000  14.000000  14.000000  14.000000\n",
       "mean   27.785714   1.577857  57.571429  22.087143\n",
       "std    10.983754   0.227433  19.998901   4.482421\n",
       "min     2.000000   0.970000  14.000000  14.780000\n",
       "25%    26.250000   1.577500  52.250000  19.800000\n",
       "50%    29.000000   1.630000  57.500000  22.335000\n",
       "75%    35.000000   1.677500  70.500000  23.845000\n",
       "max    40.000000   1.890000  82.000000  29.210000"
      ]
     },
     "execution_count": 10,
     "metadata": {},
     "output_type": "execute_result"
    }
   ],
   "source": [
    "df_alunos.describe()"
   ]
  },
  {
   "cell_type": "code",
   "execution_count": 12,
   "id": "71758abf",
   "metadata": {},
   "outputs": [],
   "source": [
    "import numpy as np\n",
    "\n",
    "df_alunos['idade_padrao'] = 30"
   ]
  },
  {
   "cell_type": "code",
   "execution_count": 25,
   "id": "8f4cc5cb",
   "metadata": {},
   "outputs": [],
   "source": [
    "df_alunos['Idade_acima'] = np.where(df_alunos['Idade'] > df_alunos['idade_padrao'], True, False)"
   ]
  },
  {
   "cell_type": "code",
   "execution_count": 27,
   "id": "b6823b9c",
   "metadata": {},
   "outputs": [
    {
     "data": {
      "text/html": [
       "<div>\n",
       "<style scoped>\n",
       "    .dataframe tbody tr th:only-of-type {\n",
       "        vertical-align: middle;\n",
       "    }\n",
       "\n",
       "    .dataframe tbody tr th {\n",
       "        vertical-align: top;\n",
       "    }\n",
       "\n",
       "    .dataframe thead th {\n",
       "        text-align: right;\n",
       "    }\n",
       "</style>\n",
       "<table border=\"1\" class=\"dataframe\">\n",
       "  <thead>\n",
       "    <tr style=\"text-align: right;\">\n",
       "      <th></th>\n",
       "      <th>Carimbo de data/hora</th>\n",
       "      <th>Nome</th>\n",
       "      <th>Idade</th>\n",
       "      <th>Altura</th>\n",
       "      <th>Peso</th>\n",
       "      <th>Curso</th>\n",
       "      <th>Período</th>\n",
       "      <th>Sexo</th>\n",
       "      <th>IMC</th>\n",
       "      <th>idade_padrao</th>\n",
       "      <th>Idade_acima</th>\n",
       "    </tr>\n",
       "  </thead>\n",
       "  <tbody>\n",
       "    <tr>\n",
       "      <th>0</th>\n",
       "      <td>2022-01-15 17:42:24.894</td>\n",
       "      <td>Silvio miranda</td>\n",
       "      <td>39.0</td>\n",
       "      <td>1.66</td>\n",
       "      <td>66.0</td>\n",
       "      <td>Mestrado em Ciências Contábeis</td>\n",
       "      <td>3°</td>\n",
       "      <td>Masculino</td>\n",
       "      <td>23.95</td>\n",
       "      <td>30</td>\n",
       "      <td>True</td>\n",
       "    </tr>\n",
       "    <tr>\n",
       "      <th>3</th>\n",
       "      <td>2022-01-15 17:47:55.765</td>\n",
       "      <td>Alline agapito</td>\n",
       "      <td>40.0</td>\n",
       "      <td>1.64</td>\n",
       "      <td>53.0</td>\n",
       "      <td>Mestrado em Administração</td>\n",
       "      <td>8°</td>\n",
       "      <td>Feminino</td>\n",
       "      <td>19.71</td>\n",
       "      <td>30</td>\n",
       "      <td>True</td>\n",
       "    </tr>\n",
       "    <tr>\n",
       "      <th>7</th>\n",
       "      <td>2022-01-15 17:50:30.178</td>\n",
       "      <td>Sérgio thiago morais</td>\n",
       "      <td>39.0</td>\n",
       "      <td>1.74</td>\n",
       "      <td>82.0</td>\n",
       "      <td>Mestrado em Ciências Contábeis</td>\n",
       "      <td>3°</td>\n",
       "      <td>Masculino</td>\n",
       "      <td>27.08</td>\n",
       "      <td>30</td>\n",
       "      <td>True</td>\n",
       "    </tr>\n",
       "    <tr>\n",
       "      <th>9</th>\n",
       "      <td>2022-01-15 17:55:23.149</td>\n",
       "      <td>Amanda torres magalhães</td>\n",
       "      <td>32.0</td>\n",
       "      <td>1.52</td>\n",
       "      <td>52.0</td>\n",
       "      <td>Mestrado em Administração</td>\n",
       "      <td>5°</td>\n",
       "      <td>Feminino</td>\n",
       "      <td>22.51</td>\n",
       "      <td>30</td>\n",
       "      <td>True</td>\n",
       "    </tr>\n",
       "    <tr>\n",
       "      <th>13</th>\n",
       "      <td>2022-01-15 17:59:45.893</td>\n",
       "      <td>Gabriela resende gomes guedes</td>\n",
       "      <td>36.0</td>\n",
       "      <td>1.68</td>\n",
       "      <td>51.0</td>\n",
       "      <td>Mestrado em Administração</td>\n",
       "      <td>3°</td>\n",
       "      <td>Feminino</td>\n",
       "      <td>18.07</td>\n",
       "      <td>30</td>\n",
       "      <td>True</td>\n",
       "    </tr>\n",
       "  </tbody>\n",
       "</table>\n",
       "</div>"
      ],
      "text/plain": [
       "      Carimbo de data/hora                           Nome  Idade  Altura  \\\n",
       "0  2022-01-15 17:42:24.894                 Silvio miranda   39.0    1.66   \n",
       "3  2022-01-15 17:47:55.765                 Alline agapito   40.0    1.64   \n",
       "7  2022-01-15 17:50:30.178           Sérgio thiago morais   39.0    1.74   \n",
       "9  2022-01-15 17:55:23.149        Amanda torres magalhães   32.0    1.52   \n",
       "13 2022-01-15 17:59:45.893  Gabriela resende gomes guedes   36.0    1.68   \n",
       "\n",
       "    Peso                           Curso Período       Sexo    IMC  \\\n",
       "0   66.0  Mestrado em Ciências Contábeis      3°  Masculino  23.95   \n",
       "3   53.0       Mestrado em Administração      8°   Feminino  19.71   \n",
       "7   82.0  Mestrado em Ciências Contábeis      3°  Masculino  27.08   \n",
       "9   52.0       Mestrado em Administração      5°   Feminino  22.51   \n",
       "13  51.0       Mestrado em Administração      3°   Feminino  18.07   \n",
       "\n",
       "    idade_padrao  Idade_acima  \n",
       "0             30         True  \n",
       "3             30         True  \n",
       "7             30         True  \n",
       "9             30         True  \n",
       "13            30         True  "
      ]
     },
     "execution_count": 27,
     "metadata": {},
     "output_type": "execute_result"
    }
   ],
   "source": [
    "df_alunos[df_alunos['Idade_acima']]"
   ]
  },
  {
   "cell_type": "markdown",
   "id": "7881e94c",
   "metadata": {},
   "source": [
    "Gráfico de Boxplot"
   ]
  },
  {
   "cell_type": "code",
   "execution_count": 56,
   "id": "c10adf3d",
   "metadata": {},
   "outputs": [
    {
     "data": {
      "image/png": "[encoded data removed]",
      "text/plain": [
       "<Figure size 288x432 with 1 Axes>"
      ]
     },
     "metadata": {
      "needs_background": "light"
     },
     "output_type": "display_data"
    }
   ],
   "source": [
    "fig1, ax = plt.subplots(figsize=(4,6))\n",
    "ax.set_title('Altura')\n",
    "ax = sns.boxplot(data = df_alunos['Altura'])"
   ]
  },
  {
   "cell_type": "code",
   "execution_count": 57,
   "id": "7d8b3eee",
   "metadata": {},
   "outputs": [
    {
     "data": {
      "image/png": "[encoded data removed]",
      "text/plain": [
       "<Figure size 288x432 with 1 Axes>"
      ]
     },
     "metadata": {
      "needs_background": "light"
     },
     "output_type": "display_data"
    }
   ],
   "source": [
    "fig1, ax = plt.subplots(figsize=(4,6))\n",
    "ax.set_title('Altura')\n",
    "ax = sns.boxplot(data = df_alunos['Peso'])"
   ]
  },
  {
   "cell_type": "code",
   "execution_count": 59,
   "id": "2aeea78c",
   "metadata": {},
   "outputs": [
    {
     "data": {
      "image/png": "[encoded data removed]",
      "text/plain": [
       "<Figure size 288x432 with 1 Axes>"
      ]
     },
     "metadata": {
      "needs_background": "light"
     },
     "output_type": "display_data"
    }
   ],
   "source": [
    "fig1, ax = plt.subplots(figsize=(4,6))\n",
    "ax.set_title('Altura')\n",
    "ax = sns.boxplot(data = df_alunos['Idade'])"
   ]
  },
  {
   "cell_type": "markdown",
   "id": "7dcfa6a7",
   "metadata": {},
   "source": [
    "Gráfico de Pizza"
   ]
  },
  {
   "cell_type": "code",
   "execution_count": 110,
   "id": "e4c963d3",
   "metadata": {},
   "outputs": [],
   "source": [
    "valores = df_alunos['Curso'].value_counts().values\n",
    "labels = df_alunos['Curso'].unique()"
   ]
  },
  {
   "cell_type": "code",
   "execution_count": 116,
   "id": "f51b22aa",
   "metadata": {},
   "outputs": [
    {
     "data": {
      "image/png": "[encoded data removed]",
      "text/plain": [
       "<Figure size 1008x432 with 1 Axes>"
      ]
     },
     "metadata": {},
     "output_type": "display_data"
    }
   ],
   "source": [
    "colors = sns.color_palette('bright')[0:8]\n",
    "plt.subplots(figsize=(14,6))\n",
    "plt.pie(valores,labels=labels,colors = colors, autopct='%.0f%%')\n",
    "plt.show()"
   ]
  },
  {
   "cell_type": "markdown",
   "id": "c29ec21c",
   "metadata": {},
   "source": [
    "Gráfido de Histogramas"
   ]
  },
  {
   "cell_type": "code",
   "execution_count": 139,
   "id": "78ee29d2",
   "metadata": {},
   "outputs": [
    {
     "data": {
      "text/plain": [
       "<AxesSubplot:xlabel='Altura', ylabel='Count'>"
      ]
     },
     "execution_count": 139,
     "metadata": {},
     "output_type": "execute_result"
    },
    {
     "data": {
      "image/png": "[encoded data removed]",
      "text/plain": [
       "<Figure size 1008x432 with 1 Axes>"
      ]
     },
     "metadata": {
      "needs_background": "light"
     },
     "output_type": "display_data"
    }
   ],
   "source": [
    "plt.subplots(figsize=(14,6))\n",
    "sns.histplot(df_alunos, x=\"Altura\", bins=5)"
   ]
  },
  {
   "cell_type": "code",
   "execution_count": 144,
   "id": "0bde475b",
   "metadata": {},
   "outputs": [],
   "source": [
    "df_tmp = df_alunos[(df_alunos['Altura'] > 1.5) & (df_alunos['Altura'] < 1.8)]"
   ]
  },
  {
   "cell_type": "code",
   "execution_count": 145,
   "id": "820f7b0c",
   "metadata": {},
   "outputs": [
    {
     "data": {
      "image/png": "[encoded data removed]",
      "text/plain": [
       "<Figure size 1008x432 with 1 Axes>"
      ]
     },
     "metadata": {
      "needs_background": "light"
     },
     "output_type": "display_data"
    }
   ],
   "source": [
    "plt.subplots(figsize=(14,6))\n",
    "sns.histplot(data=df_tmp, x=\"Altura\", bins=5)\n",
    "plt.show()"
   ]
  },
  {
   "cell_type": "code",
   "execution_count": 146,
   "id": "231fd8d0",
   "metadata": {},
   "outputs": [
    {
     "data": {
      "text/plain": [
       "<AxesSubplot:xlabel='Altura', ylabel='Count'>"
      ]
     },
     "execution_count": 146,
     "metadata": {},
     "output_type": "execute_result"
    },
    {
     "data": {
      "image/png": "[encoded data removed]",
      "text/plain": [
       "<Figure size 1008x432 with 1 Axes>"
      ]
     },
     "metadata": {
      "needs_background": "light"
     },
     "output_type": "display_data"
    }
   ],
   "source": [
    "plt.subplots(figsize=(14,6))\n",
    "sns.histplot(data=df_tmp, x=\"Altura\", hue=\"Sexo\", multiple=\"dodge\", shrink=.8)"
   ]
  },
  {
   "cell_type": "markdown",
   "id": "883dda42",
   "metadata": {},
   "source": [
    "Gráfico de Dispersão\n",
    "\n",
    "https://seaborn.pydata.org/generated/seaborn.scatterplot.html"
   ]
  },
  {
   "cell_type": "code",
   "execution_count": 155,
   "id": "3187cfde",
   "metadata": {},
   "outputs": [
    {
     "data": {
      "text/plain": [
       "<AxesSubplot:xlabel='IMC', ylabel='Peso'>"
      ]
     },
     "execution_count": 155,
     "metadata": {},
     "output_type": "execute_result"
    },
    {
     "data": {
      "image/png": "[encoded data removed]",
      "text/plain": [
       "<Figure size 432x288 with 1 Axes>"
      ]
     },
     "metadata": {
      "needs_background": "light"
     },
     "output_type": "display_data"
    }
   ],
   "source": [
    "sns.scatterplot(data=df_tmp, x=\"IMC\", y='Peso')"
   ]
  },
  {
   "cell_type": "code",
   "execution_count": null,
   "id": "6791f684",
   "metadata": {},
   "outputs": [],
   "source": []
  }
 ],
 "metadata": {
  "kernelspec": {
   "display_name": "Python 3 (ipykernel)",
   "language": "python",
   "name": "python3"
  },
  "language_info": {
   "codemirror_mode": {
    "name": "ipython",
    "version": 3
   },
   "file_extension": ".py",
   "mimetype": "text/x-python",
   "name": "python",
   "nbconvert_exporter": "python",
   "pygments_lexer": "ipython3",
   "version": "3.7.11"
  }
 },
 "nbformat": 4,
 "nbformat_minor": 5
}
